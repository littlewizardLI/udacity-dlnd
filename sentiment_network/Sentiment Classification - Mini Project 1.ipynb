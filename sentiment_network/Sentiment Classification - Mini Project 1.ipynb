{
 "cells": [
  {
   "cell_type": "markdown",
   "metadata": {},
   "source": [
    "# Sentiment Classification & How To \"Frame Problems\" for a Neural Network\n",
    "\n",
    "by Andrew Trask\n",
    "\n",
    "- **Twitter**: @iamtrask\n",
    "- **Blog**: http://iamtrask.github.io"
   ]
  },
  {
   "cell_type": "markdown",
   "metadata": {},
   "source": [
    "### What You Should Already Know\n",
    "\n",
    "- neural networks, forward and back-propagation\n",
    "- stochastic gradient descent\n",
    "- mean squared error\n",
    "- and train/test splits\n",
    "\n",
    "### Where to Get Help if You Need it\n",
    "- Re-watch previous Udacity Lectures\n",
    "- Leverage the recommended Course Reading Material - [Grokking Deep Learning](https://www.manning.com/books/grokking-deep-learning) (40% Off: **traskud17**)\n",
    "- Shoot me a tweet @iamtrask\n",
    "\n",
    "\n",
    "### Tutorial Outline:\n",
    "\n",
    "- Intro: The Importance of \"Framing a Problem\"\n",
    "\n",
    "\n",
    "- Curate a Dataset\n",
    "- Developing a \"Predictive Theory\"\n",
    "- **PROJECT 1**: Quick Theory Validation\n",
    "\n",
    "\n",
    "- Transforming Text to Numbers\n",
    "- **PROJECT 2**: Creating the Input/Output Data\n",
    "\n",
    "\n",
    "- Putting it all together in a Neural Network\n",
    "- **PROJECT 3**: Building our Neural Network\n",
    "\n",
    "\n",
    "- Understanding Neural Noise\n",
    "- **PROJECT 4**: Making Learning Faster by Reducing Noise\n",
    "\n",
    "\n",
    "- Analyzing Inefficiencies in our Network\n",
    "- **PROJECT 5**: Making our Network Train and Run Faster\n",
    "\n",
    "\n",
    "- Further Noise Reduction\n",
    "- **PROJECT 6**: Reducing Noise by Strategically Reducing the Vocabulary\n",
    "\n",
    "\n",
    "- Analysis: What's going on in the weights?"
   ]
  },
  {
   "cell_type": "markdown",
   "metadata": {
    "nbpresent": {
     "id": "56bb3cba-260c-4ebe-9ed6-b995b4c72aa3"
    }
   },
   "source": [
    "# Lesson: Curate a Dataset"
   ]
  },
  {
   "cell_type": "code",
   "execution_count": 1,
   "metadata": {
    "collapsed": false,
    "nbpresent": {
     "id": "eba2b193-0419-431e-8db9-60f34dd3fe83"
    }
   },
   "outputs": [],
   "source": [
    "def pretty_print_review_and_label(i):\n",
    "    print(labels[i] + \"\\t:\\t\" + reviews[i][:80] + \"...\")\n",
    "\n",
    "g = open('reviews.txt','r') # What we know!\n",
    "reviews = list(map(lambda x:x[:-1],g.readlines()))\n",
    "g.close()\n",
    "\n",
    "g = open('labels.txt','r') # What we WANT to know!\n",
    "labels = list(map(lambda x:x[:-1].upper(),g.readlines()))\n",
    "g.close()"
   ]
  },
  {
   "cell_type": "code",
   "execution_count": 2,
   "metadata": {
    "collapsed": false
   },
   "outputs": [
    {
     "data": {
      "text/plain": [
       "25000"
      ]
     },
     "execution_count": 2,
     "metadata": {},
     "output_type": "execute_result"
    }
   ],
   "source": [
    "len(reviews)"
   ]
  },
  {
   "cell_type": "code",
   "execution_count": 3,
   "metadata": {
    "collapsed": false,
    "nbpresent": {
     "id": "bb95574b-21a0-4213-ae50-34363cf4f87f"
    }
   },
   "outputs": [
    {
     "data": {
      "text/plain": [
       "'bromwell high is a cartoon comedy . it ran at the same time as some other programs about school life  such as  teachers  . my   years in the teaching profession lead me to believe that bromwell high  s satire is much closer to reality than is  teachers  . the scramble to survive financially  the insightful students who can see right through their pathetic teachers  pomp  the pettiness of the whole situation  all remind me of the schools i knew and their students . when i saw the episode in which a student repeatedly tried to burn down the school  i immediately recalled . . . . . . . . . at . . . . . . . . . . high . a classic line inspector i  m here to sack one of your teachers . student welcome to bromwell high . i expect that many adults of my age think that bromwell high is far fetched . what a pity that it isn  t   '"
      ]
     },
     "execution_count": 3,
     "metadata": {},
     "output_type": "execute_result"
    }
   ],
   "source": [
    "reviews[0]"
   ]
  },
  {
   "cell_type": "code",
   "execution_count": 4,
   "metadata": {
    "collapsed": false,
    "nbpresent": {
     "id": "e0408810-c424-4ed4-afb9-1735e9ddbd0a"
    }
   },
   "outputs": [
    {
     "data": {
      "text/plain": [
       "'POSITIVE'"
      ]
     },
     "execution_count": 4,
     "metadata": {},
     "output_type": "execute_result"
    }
   ],
   "source": [
    "labels[0]"
   ]
  },
  {
   "cell_type": "markdown",
   "metadata": {},
   "source": [
    "# Lesson: Develop a Predictive Theory"
   ]
  },
  {
   "cell_type": "code",
   "execution_count": 5,
   "metadata": {
    "collapsed": true
   },
   "outputs": [],
   "source": [
    "from collections import Counter\n",
    "import numpy as np\n",
    "import matplotlib.pyplot as plt\n",
    "%matplotlib inline  "
   ]
  },
  {
   "cell_type": "code",
   "execution_count": 6,
   "metadata": {
    "collapsed": false,
    "nbpresent": {
     "id": "e67a709f-234f-4493-bae6-4fb192141ee0"
    }
   },
   "outputs": [
    {
     "name": "stdout",
     "output_type": "stream",
     "text": [
      "labels.txt \t : \t reviews.txt\n",
      "\n",
      "NEGATIVE\t:\tthis movie is terrible but it has some good effects .  ...\n",
      "POSITIVE\t:\tadrian pasdar is excellent is this film . he makes a fascinating woman .  ...\n",
      "NEGATIVE\t:\tcomment this movie is impossible . is terrible  very improbable  bad interpretat...\n",
      "POSITIVE\t:\texcellent episode movie ala pulp fiction .  days   suicides . it doesnt get more...\n",
      "NEGATIVE\t:\tif you haven  t seen this  it  s terrible . it is pure trash . i saw this about ...\n",
      "POSITIVE\t:\tthis schiffer guy is a real genius  the movie is of excellent quality and both e...\n"
     ]
    }
   ],
   "source": [
    "print(\"labels.txt \\t : \\t reviews.txt\\n\")\n",
    "pretty_print_review_and_label(2137)\n",
    "pretty_print_review_and_label(12816)\n",
    "pretty_print_review_and_label(6267)\n",
    "pretty_print_review_and_label(21934)\n",
    "pretty_print_review_and_label(5297)\n",
    "pretty_print_review_and_label(4998)"
   ]
  },
  {
   "cell_type": "code",
   "execution_count": 7,
   "metadata": {
    "collapsed": false
   },
   "outputs": [
    {
     "name": "stdout",
     "output_type": "stream",
     "text": [
      "12500 12500\n"
     ]
    }
   ],
   "source": [
    "idx_pos = [i for i, x in enumerate(labels) if x == 'POSITIVE']\n",
    "idx_neg = [i for i, x in enumerate(labels) if x == 'NEGATIVE']\n",
    "\n",
    "pos_reviews = [reviews[i] for i in idx_pos]\n",
    "neg_reviews = [reviews[i] for i in idx_neg]\n",
    "\n",
    "print(len(pos_reviews), len(neg_reviews))"
   ]
  },
  {
   "cell_type": "code",
   "execution_count": 8,
   "metadata": {
    "collapsed": false
   },
   "outputs": [
    {
     "name": "stdout",
     "output_type": "stream",
     "text": [
      "[('the', 336713), ('.', 327192), ('and', 164107), ('a', 163009), ('of', 145864), ('to', 135720), ('is', 107328), ('br', 101872), ('it', 96352), ('in', 93968), ('i', 87623), ('this', 76000), ('that', 73245), ('s', 65361), ('was', 48208), ('as', 46933), ('for', 44343), ('with', 44125), ('movie', 44039), ('but', 42603), ('film', 40155), ('you', 34230), ('on', 34200), ('t', 34081), ('not', 30626), ('he', 30138), ('are', 29430), ('his', 29374), ('have', 27731), ('be', 26957), ('one', 26789), ('all', 23978), ('at', 23513), ('they', 22906), ('by', 22546), ('an', 21560), ('who', 21433), ('so', 20617), ('from', 20498), ('like', 20276), ('there', 18832), ('her', 18421), ('or', 18004), ('just', 17771), ('about', 17374), ('out', 17113), ('if', 16803), ('has', 16790), ('what', 16159), ('some', 15747), ('good', 15143), ('can', 14654), ('more', 14251), ('she', 14223), ('when', 14182), ('very', 14069), ('up', 13291), ('time', 12724), ('no', 12717), ('even', 12651), ('my', 12503), ('would', 12436), ('which', 12047), ('story', 11988), ('only', 11918), ('really', 11738), ('see', 11478), ('their', 11385), ('had', 11290), ('we', 10859), ('were', 10783), ('me', 10773), ('well', 10659), ('than', 9919), ('much', 9763), ('get', 9309), ('bad', 9308), ('been', 9289), ('people', 9285), ('will', 9211), ('do', 9177), ('other', 9163), ('also', 9158), ('into', 9111), ('first', 9061), ('great', 9059), ('because', 9045), ('how', 8901), ('him', 8876), ('don', 8804), ('most', 8783), ('made', 8364), ('its', 8277), ('then', 8119), ('make', 8025), ('way', 8025), ('them', 7970), ('could', 7923), ('too', 7833), ('movies', 7666)]\n"
     ]
    }
   ],
   "source": [
    "pos_words = [word for review in pos_reviews for word in review.split()]\n",
    "neg_words = [word for review in neg_reviews for word in review.split()]\n",
    "tot_words = [word for review in reviews for word in review.split()]\n",
    "\n",
    "pos_word_cnts = Counter(pos_words)\n",
    "neg_word_cnts = Counter(neg_words)\n",
    "tot_word_cnts = Counter(tot_words)\n",
    "\n",
    "print(tot_word_cnts.most_common(100))"
   ]
  },
  {
   "cell_type": "markdown",
   "metadata": {},
   "source": [
    "차집합으로 긍정 또는 부정에만 등장하는 단어 찾기"
   ]
  },
  {
   "cell_type": "code",
   "execution_count": 9,
   "metadata": {
    "collapsed": false,
    "scrolled": true
   },
   "outputs": [],
   "source": [
    "pos_words = pos_word_cnts.most_common()[0:1000]\n",
    "neg_words = neg_word_cnts.most_common()[0:1000]\n",
    "\n",
    "pos_words = set([word for word, _ in pos_words])\n",
    "neg_words = set([word for word, _ in neg_words])\n",
    "\n",
    "pos_words = pos_words - neg_words\n",
    "neg_words = neg_words - pos_words"
   ]
  },
  {
   "cell_type": "code",
   "execution_count": 10,
   "metadata": {
    "collapsed": false
   },
   "outputs": [
    {
     "name": "stdout",
     "output_type": "stream",
     "text": [
      "100\n",
      "0.48\n"
     ]
    }
   ],
   "source": [
    "predictions = []\n",
    "size = 100\n",
    "for review in reviews[0:size]:\n",
    "    pos_cnt = [review.count(word) for word in pos_words]\n",
    "    neg_cnt = [review.count(word) for word in neg_words]\n",
    "    \n",
    "    predictions.append('POSITIVE' if pos_cnt > neg_cnt else 'NEGATIVE')\n",
    "    \n",
    "print(len(predictions))\n",
    "result = [x == y for x, y in zip(labels[0:size], predictions)]\n",
    "print(sum(result)/len(result))"
   ]
  },
  {
   "cell_type": "markdown",
   "metadata": {},
   "source": [
    "특정 단어가 (긍정에서 등장한 개수/부정에서 등장한 개수) 비율 계산"
   ]
  },
  {
   "cell_type": "code",
   "execution_count": 17,
   "metadata": {
    "collapsed": false
   },
   "outputs": [
    {
     "data": {
      "image/png": "[encoded data removed]",
      "text/plain": [
       "<matplotlib.figure.Figure at 0x11cbb93c8>"
      ]
     },
     "metadata": {},
     "output_type": "display_data"
    }
   ],
   "source": [
    "# 등장 횟수 비율에 따른 점수값 표현\n",
    "def get_score(ratio):\n",
    "    res = 0\n",
    "    if(ratio > 1):\n",
    "        res = np.log(ratio)\n",
    "    else:\n",
    "        res = -np.log((1 / (ratio+0.01)))\n",
    "    return res\n",
    "\n",
    "def get_score_word(word):\n",
    "    pos_neg_ratio = pos_word_cnts[word] / float(neg_word_cnts[word]+1)\n",
    "    return get_score(pos_neg_ratio)\n",
    "\n",
    "cnt1 = np.array([1,2,3,4,5,6,7,8,9])\n",
    "cnt2 = cnt1[::-1]\n",
    "ratios = cnt1/cnt2\n",
    "\n",
    "pos_neg_ratios = []\n",
    "    \n",
    "for ratio in ratios:\n",
    "    pos_neg_ratios.append(get_score(ratio))\n",
    "\n",
    "plt.plot(range(len(pos_neg_ratios)), pos_neg_ratios)\n",
    "plt.xticks(range(len(pos_neg_ratios)), ratios, rotation='vertical')\n",
    "plt.show()        "
   ]
  },
  {
   "cell_type": "code",
   "execution_count": 18,
   "metadata": {
    "collapsed": false
   },
   "outputs": [
    {
     "name": "stdout",
     "output_type": "stream",
     "text": [
      "[('wonderful', 1.5645425925262093), ('excellent', 1.4647538505723599), ('amazing', 1.3919815802404802), ('favorite', 1.2668956297860055), ('perfect', 1.246742480713785), ('brilliant', 1.2287554137664785), ('loved', 1.1563661500586044), ('highly', 1.1420208631618658), ('today', 1.1050431789984001), ('beautiful', 0.97326301262841053)]\n",
      "[('waste', -2.4907515123361046), ('worst', -2.1930856334332267), ('awful', -2.1385076866397488), ('horrible', -1.844894301366784), ('crap', -1.7677639636718392), ('worse', -1.6820086052689358), ('terrible', -1.6742829939664696), ('stupid', -1.6042380193725321), ('boring', -1.4475226133603798), ('bad', -1.3181383703873577)]\n"
     ]
    }
   ],
   "source": [
    "pos_neg_ratios = Counter()\n",
    "\n",
    "for term, cnt in list(tot_word_cnts.most_common()):\n",
    "    if(cnt > 1000):\n",
    "        pos_neg_ratio = pos_word_cnts[term] / float(neg_word_cnts[term]+1)\n",
    "        pos_neg_ratios[term] = get_score(pos_neg_ratio)\n",
    "\n",
    "print(list(pos_neg_ratios.most_common(10)))\n",
    "print(list(reversed(pos_neg_ratios.most_common()))[0:10])"
   ]
  },
  {
   "cell_type": "code",
   "execution_count": 34,
   "metadata": {
    "collapsed": false
   },
   "outputs": [
    {
     "name": "stdout",
     "output_type": "stream",
     "text": [
      "200\n",
      "0.925\n"
     ]
    }
   ],
   "source": [
    "predictions = []\n",
    "size = 200\n",
    "for review in reviews[0:size]:\n",
    "    score = sum([get_score_word(word) for word in review.split() if word != '.'])\n",
    "    predictions.append('POSITIVE' if score > 0 else 'NEGATIVE')\n",
    "    \n",
    "print(len(predictions))\n",
    "result = [x == y for x, y in zip(labels[0:size], predictions)]\n",
    "print(sum(result)/len(result))"
   ]
  },
  {
   "cell_type": "code",
   "execution_count": null,
   "metadata": {
    "collapsed": true
   },
   "outputs": [],
   "source": []
  }
 ],
 "metadata": {
  "anaconda-cloud": {},
  "kernelspec": {
   "display_name": "Python 3",
   "language": "python",
   "name": "python3"
  },
  "language_info": {
   "codemirror_mode": {
    "name": "ipython",
    "version": 3
   },
   "file_extension": ".py",
   "mimetype": "text/x-python",
   "name": "python",
   "nbconvert_exporter": "python",
   "pygments_lexer": "ipython3",
   "version": "3.6.0"
  }
 },
 "nbformat": 4,
 "nbformat_minor": 1
}
