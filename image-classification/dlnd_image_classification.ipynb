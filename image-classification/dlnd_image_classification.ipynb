{
 "cells": [
  {
   "cell_type": "markdown",
   "metadata": {
    "collapsed": true,
    "deletable": true,
    "editable": true
   },
   "source": [
    "# Image Classification\n",
    "In this project, you'll classify images from the [CIFAR-10 dataset](https://www.cs.toronto.edu/~kriz/cifar.html).  The dataset consists of airplanes, dogs, cats, and other objects. You'll preprocess the images, then train a convolutional neural network on all the samples. The images need to be normalized and the labels need to be one-hot encoded.  You'll get to apply what you learned and build a convolutional, max pooling, dropout, and fully connected layers.  At the end, you'll get to see your neural network's predictions on the sample images.\n",
    "## Get the Data\n",
    "Run the following cell to download the [CIFAR-10 dataset for python](https://www.cs.toronto.edu/~kriz/cifar-10-python.tar.gz)."
   ]
  },
  {
   "cell_type": "code",
   "execution_count": 1,
   "metadata": {
    "collapsed": false,
    "deletable": true,
    "editable": true
   },
   "outputs": [
    {
     "name": "stdout",
     "output_type": "stream",
     "text": [
      "All files found!\n"
     ]
    }
   ],
   "source": [
    "\"\"\"\n",
    "DON'T MODIFY ANYTHING IN THIS CELL THAT IS BELOW THIS LINE\n",
    "\"\"\"\n",
    "from urllib.request import urlretrieve\n",
    "from os.path import isfile, isdir\n",
    "from tqdm import tqdm\n",
    "import problem_unittests as tests\n",
    "import tarfile\n",
    "\n",
    "cifar10_dataset_folder_path = 'cifar-10-batches-py'\n",
    "\n",
    "class DLProgress(tqdm):\n",
    "    last_block = 0\n",
    "\n",
    "    def hook(self, block_num=1, block_size=1, total_size=None):\n",
    "        self.total = total_size\n",
    "        self.update((block_num - self.last_block) * block_size)\n",
    "        self.last_block = block_num\n",
    "\n",
    "if not isfile('cifar-10-python.tar.gz'):\n",
    "    with DLProgress(unit='B', unit_scale=True, miniters=1, desc='CIFAR-10 Dataset') as pbar:\n",
    "        urlretrieve(\n",
    "            'https://www.cs.toronto.edu/~kriz/cifar-10-python.tar.gz',\n",
    "            'cifar-10-python.tar.gz',\n",
    "            pbar.hook)\n",
    "\n",
    "if not isdir(cifar10_dataset_folder_path):\n",
    "    with tarfile.open('cifar-10-python.tar.gz') as tar:\n",
    "        tar.extractall()\n",
    "        tar.close()\n",
    "\n",
    "\n",
    "tests.test_folder_path(cifar10_dataset_folder_path)"
   ]
  },
  {
   "cell_type": "markdown",
   "metadata": {
    "deletable": true,
    "editable": true
   },
   "source": [
    "## Explore the Data\n",
    "The dataset is broken into batches to prevent your machine from running out of memory.  The CIFAR-10 dataset consists of 5 batches, named `data_batch_1`, `data_batch_2`, etc.. Each batch contains the labels and images that are one of the following:\n",
    "* airplane\n",
    "* automobile\n",
    "* bird\n",
    "* cat\n",
    "* deer\n",
    "* dog\n",
    "* frog\n",
    "* horse\n",
    "* ship\n",
    "* truck\n",
    "\n",
    "Understanding a dataset is part of making predictions on the data.  Play around with the code cell below by changing the `batch_id` and `sample_id`. The `batch_id` is the id for a batch (1-5). The `sample_id` is the id for a image and label pair in the batch.\n",
    "\n",
    "Ask yourself \"What are all possible labels?\", \"What is the range of values for the image data?\", \"Are the labels in order or random?\".  Answers to questions like these will help you preprocess the data and end up with better predictions."
   ]
  },
  {
   "cell_type": "code",
   "execution_count": 2,
   "metadata": {
    "collapsed": false,
    "deletable": true,
    "editable": true
   },
   "outputs": [
    {
     "name": "stdout",
     "output_type": "stream",
     "text": [
      "\n",
      "Stats of batch 3:\n",
      "Samples: 10000\n",
      "Label Counts: {0: 994, 1: 1042, 2: 965, 3: 997, 4: 990, 5: 1029, 6: 978, 7: 1015, 8: 961, 9: 1029}\n",
      "First 20 Labels: [8, 5, 0, 6, 9, 2, 8, 3, 6, 2, 7, 4, 6, 9, 0, 0, 7, 3, 7, 2]\n",
      "\n",
      "Example of Image 5:\n",
      "Image - Min Value: 9 Max Value: 255\n",
      "Image - Shape: (32, 32, 3)\n",
      "Label - Label Id: 2 Name: bird\n"
     ]
    },
    {
     "data": {
      "image/png": "[encoded data removed]",
      "text/plain": [
       "<matplotlib.figure.Figure at 0x7f9bfe2d5128>"
      ]
     },
     "metadata": {
      "image/png": {
       "height": 250,
       "width": 253
      }
     },
     "output_type": "display_data"
    }
   ],
   "source": [
    "%matplotlib inline\n",
    "%config InlineBackend.figure_format = 'retina'\n",
    "\n",
    "import helper\n",
    "import numpy as np\n",
    "\n",
    "# Explore the dataset\n",
    "batch_id = 3\n",
    "sample_id = 5\n",
    "helper.display_stats(cifar10_dataset_folder_path, batch_id, sample_id)"
   ]
  },
  {
   "cell_type": "markdown",
   "metadata": {
    "deletable": true,
    "editable": true
   },
   "source": [
    "## Implement Preprocess Functions\n",
    "### Normalize\n",
    "In the cell below, implement the `normalize` function to take in image data, `x`, and return it as a normalized Numpy array. The values should be in the range of 0 to 1, inclusive.  The return object should be the same shape as `x`."
   ]
  },
  {
   "cell_type": "code",
   "execution_count": 3,
   "metadata": {
    "collapsed": false,
    "deletable": true,
    "editable": true
   },
   "outputs": [
    {
     "name": "stdout",
     "output_type": "stream",
     "text": [
      "Tests Passed\n"
     ]
    }
   ],
   "source": [
    "def normalize(x):\n",
    "    \"\"\"\n",
    "    Normalize a list of sample image data in the range of 0 to 1\n",
    "    : x: List of image data.  The image shape is (32, 32, 3)\n",
    "    : return: Numpy array of normalize data\n",
    "    \"\"\"\n",
    "    # TODO: Implement Function\n",
    "    minx = np.min(x)\n",
    "    maxx = np.max(x)\n",
    "    return (x - minx) / ((maxx - minx) + np.finfo(np.float32).eps)\n",
    "\n",
    "\n",
    "\"\"\"\n",
    "DON'T MODIFY ANYTHING IN THIS CELL THAT IS BELOW THIS LINE\n",
    "\"\"\"\n",
    "tests.test_normalize(normalize)"
   ]
  },
  {
   "cell_type": "markdown",
   "metadata": {
    "deletable": true,
    "editable": true
   },
   "source": [
    "### One-hot encode\n",
    "Just like the previous code cell, you'll be implementing a function for preprocessing.  This time, you'll implement the `one_hot_encode` function. The input, `x`, are a list of labels.  Implement the function to return the list of labels as One-Hot encoded Numpy array.  The possible values for labels are 0 to 9. The one-hot encoding function should return the same encoding for each value between each call to `one_hot_encode`.  Make sure to save the map of encodings outside the function.\n",
    "\n",
    "Hint: Don't reinvent the wheel."
   ]
  },
  {
   "cell_type": "code",
   "execution_count": 4,
   "metadata": {
    "collapsed": false,
    "deletable": true,
    "editable": true
   },
   "outputs": [
    {
     "name": "stdout",
     "output_type": "stream",
     "text": [
      "Tests Passed\n"
     ]
    }
   ],
   "source": [
    "def one_hot_encode(x):\n",
    "    \"\"\"\n",
    "    One hot encode a list of sample labels. Return a one-hot encoded vector for each label.\n",
    "    : x: List of sample Labels\n",
    "    : return: Numpy array of one-hot encoded labels\n",
    "    \"\"\"\n",
    "    # TODO: Implement Function\n",
    "    one_hot_encoded_labels = np.zeros((len(x), 10))\n",
    "    one_hot_encoded_labels[range(len(x)), x] = 1\n",
    "    return one_hot_encoded_labels\n",
    "\n",
    "\n",
    "\"\"\"\n",
    "DON'T MODIFY ANYTHING IN THIS CELL THAT IS BELOW THIS LINE\n",
    "\"\"\"\n",
    "tests.test_one_hot_encode(one_hot_encode)"
   ]
  },
  {
   "cell_type": "markdown",
   "metadata": {
    "deletable": true,
    "editable": true
   },
   "source": [
    "### Randomize Data\n",
    "As you saw from exploring the data above, the order of the samples are randomized.  It doesn't hurt to randomize it again, but you don't need to for this dataset."
   ]
  },
  {
   "cell_type": "markdown",
   "metadata": {
    "deletable": true,
    "editable": true
   },
   "source": [
    "## Preprocess all the data and save it\n",
    "Running the code cell below will preprocess all the CIFAR-10 data and save it to file. The code below also uses 10% of the training data for validation."
   ]
  },
  {
   "cell_type": "code",
   "execution_count": 5,
   "metadata": {
    "collapsed": false,
    "deletable": true,
    "editable": true
   },
   "outputs": [],
   "source": [
    "\"\"\"\n",
    "DON'T MODIFY ANYTHING IN THIS CELL\n",
    "\"\"\"\n",
    "# Preprocess Training, Validation, and Testing Data\n",
    "helper.preprocess_and_save_data(cifar10_dataset_folder_path, normalize, one_hot_encode)"
   ]
  },
  {
   "cell_type": "markdown",
   "metadata": {
    "deletable": true,
    "editable": true
   },
   "source": [
    "# Check Point\n",
    "This is your first checkpoint.  If you ever decide to come back to this notebook or have to restart the notebook, you can start from here.  The preprocessed data has been saved to disk."
   ]
  },
  {
   "cell_type": "code",
   "execution_count": 6,
   "metadata": {
    "collapsed": true,
    "deletable": true,
    "editable": true
   },
   "outputs": [],
   "source": [
    "\"\"\"\n",
    "DON'T MODIFY ANYTHING IN THIS CELL\n",
    "\"\"\"\n",
    "import pickle\n",
    "import problem_unittests as tests\n",
    "import helper\n",
    "\n",
    "# Load the Preprocessed Validation data\n",
    "valid_features, valid_labels = pickle.load(open('preprocess_validation.p', mode='rb'))"
   ]
  },
  {
   "cell_type": "markdown",
   "metadata": {
    "deletable": true,
    "editable": true
   },
   "source": [
    "## Build the network\n",
    "For the neural network, you'll build each layer into a function.  Most of the code you've seen has been outside of functions. To test your code more thoroughly, we require that you put each layer in a function.  This allows us to give you better feedback and test for simple mistakes using our unittests before you submit your project.\n",
    "\n",
    ">**Note:** If you're finding it hard to dedicate enough time for this course each week, we've provided a small shortcut to this part of the project. In the next couple of problems, you'll have the option to use classes from the [TensorFlow Layers](https://www.tensorflow.org/api_docs/python/tf/layers) or [TensorFlow Layers (contrib)](https://www.tensorflow.org/api_guides/python/contrib.layers) packages to build each layer, except the layers you build in the \"Convolutional and Max Pooling Layer\" section.  TF Layers is similar to Keras's and TFLearn's abstraction to layers, so it's easy to pickup.\n",
    "\n",
    ">However, if you would like to get the most out of this course, try to solve all the problems _without_ using anything from the TF Layers packages. You **can** still use classes from other packages that happen to have the same name as ones you find in TF Layers! For example, instead of using the TF Layers version of the `conv2d` class, [tf.layers.conv2d](https://www.tensorflow.org/api_docs/python/tf/layers/conv2d), you would want to use the TF Neural Network version of `conv2d`, [tf.nn.conv2d](https://www.tensorflow.org/api_docs/python/tf/nn/conv2d). \n",
    "\n",
    "Let's begin!\n",
    "\n",
    "### Input\n",
    "The neural network needs to read the image data, one-hot encoded labels, and dropout keep probability. Implement the following functions\n",
    "* Implement `neural_net_image_input`\n",
    " * Return a [TF Placeholder](https://www.tensorflow.org/api_docs/python/tf/placeholder)\n",
    " * Set the shape using `image_shape` with batch size set to `None`.\n",
    " * Name the TensorFlow placeholder \"x\" using the TensorFlow `name` parameter in the [TF Placeholder](https://www.tensorflow.org/api_docs/python/tf/placeholder).\n",
    "* Implement `neural_net_label_input`\n",
    " * Return a [TF Placeholder](https://www.tensorflow.org/api_docs/python/tf/placeholder)\n",
    " * Set the shape using `n_classes` with batch size set to `None`.\n",
    " * Name the TensorFlow placeholder \"y\" using the TensorFlow `name` parameter in the [TF Placeholder](https://www.tensorflow.org/api_docs/python/tf/placeholder).\n",
    "* Implement `neural_net_keep_prob_input`\n",
    " * Return a [TF Placeholder](https://www.tensorflow.org/api_docs/python/tf/placeholder) for dropout keep probability.\n",
    " * Name the TensorFlow placeholder \"keep_prob\" using the TensorFlow `name` parameter in the [TF Placeholder](https://www.tensorflow.org/api_docs/python/tf/placeholder).\n",
    "\n",
    "These names will be used at the end of the project to load your saved model.\n",
    "\n",
    "Note: `None` for shapes in TensorFlow allow for a dynamic size."
   ]
  },
  {
   "cell_type": "code",
   "execution_count": 7,
   "metadata": {
    "collapsed": false,
    "deletable": true,
    "editable": true
   },
   "outputs": [
    {
     "name": "stdout",
     "output_type": "stream",
     "text": [
      "Image Input Tests Passed.\n",
      "Label Input Tests Passed.\n",
      "Keep Prob Tests Passed.\n"
     ]
    }
   ],
   "source": [
    "import tensorflow as tf\n",
    "\n",
    "def neural_net_image_input(image_shape):\n",
    "    \"\"\"\n",
    "    Return a Tensor for a bach of image input\n",
    "    : image_shape: Shape of the images\n",
    "    : return: Tensor for image input.\n",
    "    \"\"\"\n",
    "    # TODO: Implement Function\n",
    "    return tf.placeholder(tf.float32, (None, *image_shape), name='x')\n",
    "\n",
    "\n",
    "def neural_net_label_input(n_classes):\n",
    "    \"\"\"\n",
    "    Return a Tensor for a batch of label input\n",
    "    : n_classes: Number of classes\n",
    "    : return: Tensor for label input.\n",
    "    \"\"\"\n",
    "    # TODO: Implement Function\n",
    "    return tf.placeholder(tf.float32, (None, n_classes), name='y')\n",
    "\n",
    "\n",
    "def neural_net_keep_prob_input():\n",
    "    \"\"\"\n",
    "    Return a Tensor for keep probability\n",
    "    : return: Tensor for keep probability.\n",
    "    \"\"\"\n",
    "    # TODO: Implement Function\n",
    "    return tf.placeholder(tf.float32, name='keep_prob')\n",
    "\n",
    "\n",
    "\"\"\"\n",
    "DON'T MODIFY ANYTHING IN THIS CELL THAT IS BELOW THIS LINE\n",
    "\"\"\"\n",
    "tf.reset_default_graph()\n",
    "tests.test_nn_image_inputs(neural_net_image_input)\n",
    "tests.test_nn_label_inputs(neural_net_label_input)\n",
    "tests.test_nn_keep_prob_inputs(neural_net_keep_prob_input)"
   ]
  },
  {
   "cell_type": "markdown",
   "metadata": {
    "deletable": true,
    "editable": true
   },
   "source": [
    "### Convolution and Max Pooling Layer\n",
    "Convolution layers have a lot of success with images. For this code cell, you should implement the function `conv2d_maxpool` to apply convolution then max pooling:\n",
    "* Create the weight and bias using `conv_ksize`, `conv_num_outputs` and the shape of `x_tensor`.\n",
    "* Apply a convolution to `x_tensor` using weight and `conv_strides`.\n",
    " * We recommend you use same padding, but you're welcome to use any padding.\n",
    "* Add bias\n",
    "* Add a nonlinear activation to the convolution.\n",
    "* Apply Max Pooling using `pool_ksize` and `pool_strides`.\n",
    " * We recommend you use same padding, but you're welcome to use any padding.\n",
    "\n",
    "**Note:** You **can't** use [TensorFlow Layers](https://www.tensorflow.org/api_docs/python/tf/layers) or [TensorFlow Layers (contrib)](https://www.tensorflow.org/api_guides/python/contrib.layers) for **this** layer, but you can still use TensorFlow's [Neural Network](https://www.tensorflow.org/api_docs/python/tf/nn) package. You may still use the shortcut option for all the **other** layers."
   ]
  },
  {
   "cell_type": "code",
   "execution_count": 8,
   "metadata": {
    "collapsed": false,
    "deletable": true,
    "editable": true
   },
   "outputs": [
    {
     "name": "stdout",
     "output_type": "stream",
     "text": [
      "Tests Passed\n"
     ]
    }
   ],
   "source": [
    "def conv2d_maxpool(x_tensor, conv_num_outputs, conv_ksize, conv_strides, pool_ksize, pool_strides):\n",
    "    \"\"\"\n",
    "    Apply convolution then max pooling to x_tensor\n",
    "    :param x_tensor: TensorFlow Tensor\n",
    "    :param conv_num_outputs: Number of outputs for the convolutional layer\n",
    "    :param conv_ksize: kernal size 2-D Tuple for the convolutional layer\n",
    "    :param conv_strides: Stride 2-D Tuple for convolution\n",
    "    :param pool_ksize: kernal size 2-D Tuple for pool\n",
    "    :param pool_strides: Stride 2-D Tuple for pool\n",
    "    : return: A tensor that represents convolution and max pooling of x_tensor\n",
    "    \"\"\"\n",
    "    # TODO: Implement Function\n",
    "    x_tensor_depth = x_tensor.get_shape().as_list()[3]\n",
    "    weight = tf.Variable(tf.truncated_normal([*conv_ksize, x_tensor_depth, conv_num_outputs], mean=0.0, stddev=0.01))\n",
    "    bias = tf.Variable(tf.zeros(conv_num_outputs))\n",
    "    \n",
    "    h = tf.nn.conv2d(x_tensor, weight, [1, *conv_strides, 1], 'SAME')\n",
    "    h = tf.nn.bias_add(h, bias)\n",
    "    activation = tf.nn.relu(h)\n",
    "    layer_output = tf.nn.max_pool(activation,\n",
    "                                  ksize=[1, *pool_ksize, 1],\n",
    "                                  strides=[1, *pool_strides, 1],\n",
    "                                  padding='SAME')\n",
    "    return layer_output \n",
    "\n",
    "\n",
    "\"\"\"\n",
    "DON'T MODIFY ANYTHING IN THIS CELL THAT IS BELOW THIS LINE\n",
    "\"\"\"\n",
    "tests.test_con_pool(conv2d_maxpool)"
   ]
  },
  {
   "cell_type": "markdown",
   "metadata": {
    "deletable": true,
    "editable": true
   },
   "source": [
    "### Flatten Layer\n",
    "Implement the `flatten` function to change the dimension of `x_tensor` from a 4-D tensor to a 2-D tensor.  The output should be the shape (*Batch Size*, *Flattened Image Size*). Shortcut option: you can use classes from the [TensorFlow Layers](https://www.tensorflow.org/api_docs/python/tf/layers) or [TensorFlow Layers (contrib)](https://www.tensorflow.org/api_guides/python/contrib.layers) packages for this layer. For more of a challenge, only use other TensorFlow packages."
   ]
  },
  {
   "cell_type": "code",
   "execution_count": 9,
   "metadata": {
    "collapsed": false,
    "deletable": true,
    "editable": true
   },
   "outputs": [
    {
     "name": "stdout",
     "output_type": "stream",
     "text": [
      "Tests Passed\n"
     ]
    }
   ],
   "source": [
    "def flatten(x_tensor):\n",
    "    \"\"\"\n",
    "    Flatten x_tensor to (Batch Size, Flattened Image Size)\n",
    "    : x_tensor: A tensor of size (Batch Size, ...), where ... are the image dimensions.\n",
    "    : return: A tensor of size (Batch Size, Flattened Image Size).\n",
    "    \"\"\"\n",
    "    # TODO: Implement Function\n",
    "    flattened_img_size = np.prod(x_tensor.get_shape().as_list()[1:])\n",
    "    return tf.reshape(x_tensor, [-1, flattened_img_size])\n",
    "\n",
    "\n",
    "\"\"\"\n",
    "DON'T MODIFY ANYTHING IN THIS CELL THAT IS BELOW THIS LINE\n",
    "\"\"\"\n",
    "tests.test_flatten(flatten)"
   ]
  },
  {
   "cell_type": "markdown",
   "metadata": {
    "deletable": true,
    "editable": true
   },
   "source": [
    "### Fully-Connected Layer\n",
    "Implement the `fully_conn` function to apply a fully connected layer to `x_tensor` with the shape (*Batch Size*, *num_outputs*). Shortcut option: you can use classes from the [TensorFlow Layers](https://www.tensorflow.org/api_docs/python/tf/layers) or [TensorFlow Layers (contrib)](https://www.tensorflow.org/api_guides/python/contrib.layers) packages for this layer. For more of a challenge, only use other TensorFlow packages."
   ]
  },
  {
   "cell_type": "code",
   "execution_count": 10,
   "metadata": {
    "collapsed": false,
    "deletable": true,
    "editable": true
   },
   "outputs": [
    {
     "name": "stdout",
     "output_type": "stream",
     "text": [
      "Tests Passed\n"
     ]
    }
   ],
   "source": [
    "def fully_conn(x_tensor, num_outputs):\n",
    "    \"\"\"\n",
    "    Apply a fully connected layer to x_tensor using weight and bias\n",
    "    : x_tensor: A 2-D tensor where the first dimension is batch size.\n",
    "    : num_outputs: The number of output that the new tensor should be.\n",
    "    : return: A 2-D tensor where the second dimension is num_outputs.\n",
    "    \"\"\"\n",
    "    # TODO: Implement Function\n",
    "    num_inputs = x_tensor.get_shape().as_list()[1]\n",
    "    weight = tf.Variable(tf.truncated_normal([num_inputs, num_outputs], mean=0.0, stddev=0.01))\n",
    "    bias = tf.Variable(tf.zeros(num_outputs))\n",
    "    fc = tf.add(tf.matmul(x_tensor, weight), bias)\n",
    "    fc = tf.nn.relu(fc)\n",
    "    return fc\n",
    "\n",
    "\n",
    "\"\"\"\n",
    "DON'T MODIFY ANYTHING IN THIS CELL THAT IS BELOW THIS LINE\n",
    "\"\"\"\n",
    "tests.test_fully_conn(fully_conn)"
   ]
  },
  {
   "cell_type": "markdown",
   "metadata": {
    "deletable": true,
    "editable": true
   },
   "source": [
    "### Output Layer\n",
    "Implement the `output` function to apply a fully connected layer to `x_tensor` with the shape (*Batch Size*, *num_outputs*). Shortcut option: you can use classes from the [TensorFlow Layers](https://www.tensorflow.org/api_docs/python/tf/layers) or [TensorFlow Layers (contrib)](https://www.tensorflow.org/api_guides/python/contrib.layers) packages for this layer. For more of a challenge, only use other TensorFlow packages.\n",
    "\n",
    "**Note:** Activation, softmax, or cross entropy should **not** be applied to this."
   ]
  },
  {
   "cell_type": "code",
   "execution_count": 11,
   "metadata": {
    "collapsed": false,
    "deletable": true,
    "editable": true
   },
   "outputs": [
    {
     "name": "stdout",
     "output_type": "stream",
     "text": [
      "Tests Passed\n"
     ]
    }
   ],
   "source": [
    "def output(x_tensor, num_outputs):\n",
    "    \"\"\"\n",
    "    Apply a output layer to x_tensor using weight and bias\n",
    "    : x_tensor: A 2-D tensor where the first dimension is batch size.\n",
    "    : num_outputs: The number of output that the new tensor should be.\n",
    "    : return: A 2-D tensor where the second dimension is num_outputs.\n",
    "    \"\"\"\n",
    "    # TODO: Implement Function\n",
    "    num_inputs = x_tensor.get_shape().as_list()[1]\n",
    "    weight = tf.Variable(tf.truncated_normal([num_inputs, num_outputs], mean=0.0, stddev=0.01))\n",
    "    bias = tf.Variable(tf.zeros(num_outputs))\n",
    "    out = tf.add(tf.matmul(x_tensor, weight), bias)\n",
    "    return out\n",
    "\n",
    "\n",
    "\"\"\"\n",
    "DON'T MODIFY ANYTHING IN THIS CELL THAT IS BELOW THIS LINE\n",
    "\"\"\"\n",
    "tests.test_output(output)"
   ]
  },
  {
   "cell_type": "markdown",
   "metadata": {
    "deletable": true,
    "editable": true
   },
   "source": [
    "### Create Convolutional Model\n",
    "Implement the function `conv_net` to create a convolutional neural network model. The function takes in a batch of images, `x`, and outputs logits.  Use the layers you created above to create this model:\n",
    "\n",
    "* Apply 1, 2, or 3 Convolution and Max Pool layers\n",
    "* Apply a Flatten Layer\n",
    "* Apply 1, 2, or 3 Fully Connected Layers\n",
    "* Apply an Output Layer\n",
    "* Return the output\n",
    "* Apply [TensorFlow's Dropout](https://www.tensorflow.org/api_docs/python/tf/nn/dropout) to one or more layers in the model using `keep_prob`. "
   ]
  },
  {
   "cell_type": "code",
   "execution_count": 35,
   "metadata": {
    "collapsed": false,
    "deletable": true,
    "editable": true
   },
   "outputs": [
    {
     "name": "stdout",
     "output_type": "stream",
     "text": [
      "Neural Network Built!\n"
     ]
    }
   ],
   "source": [
    "def conv_net(x, keep_prob):\n",
    "    \"\"\"\n",
    "    Create a convolutional neural network model\n",
    "    : x: Placeholder tensor that holds image data.\n",
    "    : keep_prob: Placeholder tensor that hold dropout keep probability.\n",
    "    : return: Tensor that represents logits\n",
    "    \"\"\"\n",
    "    # TODO: Apply 1, 2, or 3 Convolution and Max Pool layers\n",
    "    #    Play around with different number of outputs, kernel size and stride\n",
    "    # Function Definition from Above:\n",
    "    #    conv2d_maxpool(x_tensor, conv_num_outputs, conv_ksize, conv_strides, pool_ksize, pool_strides)\n",
    "    conv1 = conv2d_maxpool(x, 64, (3, 3), (1, 1), (2, 2), (2, 2))\n",
    "    conv2 = conv2d_maxpool(conv1, 128, (3, 3), (2, 2), (2, 2), (2, 2))\n",
    "    conv3 = conv2d_maxpool(conv2, 256, (3, 3), (2, 2), (2, 2), (2, 2))\n",
    "    \n",
    "    # TODO: Apply a Flatten Layer\n",
    "    # Function Definition from Above:\n",
    "    #   flatten(x_tensor)\n",
    "    conv3 = flatten(conv3)\n",
    "\n",
    "    # TODO: Apply 1, 2, or 3 Fully Connected Layers\n",
    "    #    Play around with different number of outputs\n",
    "    # Function Definition from Above:\n",
    "    #   fully_conn(x_tensor, num_outputs)\n",
    "    fc1 = fully_conn(conv3, 1024)\n",
    "    fc1 = tf.nn.dropout(fc1, keep_prob)\n",
    "    fc2 = fully_conn(fc1, 1024)\n",
    "    fc2 = tf.nn.dropout(fc2, keep_prob)\n",
    "    \n",
    "    # TODO: Apply an Output Layer\n",
    "    #    Set this to the number of classes\n",
    "    # Function Definition from Above:\n",
    "    #   output(x_tensor, num_outputs)\n",
    "    output_layer = output(fc2, 10)\n",
    "    \n",
    "    # TODO: return output\n",
    "    return output_layer\n",
    "\n",
    "\n",
    "\"\"\"\n",
    "DON'T MODIFY ANYTHING IN THIS CELL THAT IS BELOW THIS LINE\n",
    "\"\"\"\n",
    "\n",
    "##############################\n",
    "## Build the Neural Network ##\n",
    "##############################\n",
    "\n",
    "# Remove previous weights, bias, inputs, etc..\n",
    "tf.reset_default_graph()\n",
    "\n",
    "# Inputs\n",
    "x = neural_net_image_input((32, 32, 3))\n",
    "y = neural_net_label_input(10)\n",
    "keep_prob = neural_net_keep_prob_input()\n",
    "\n",
    "# Model\n",
    "logits = conv_net(x, keep_prob)\n",
    "\n",
    "# Name logits Tensor, so that is can be loaded from disk after training\n",
    "logits = tf.identity(logits, name='logits')\n",
    "\n",
    "# Loss and Optimizer\n",
    "cost = tf.reduce_mean(tf.nn.softmax_cross_entropy_with_logits(logits=logits, labels=y))\n",
    "optimizer = tf.train.AdamOptimizer().minimize(cost)\n",
    "\n",
    "# Accuracy\n",
    "correct_pred = tf.equal(tf.argmax(logits, 1), tf.argmax(y, 1))\n",
    "accuracy = tf.reduce_mean(tf.cast(correct_pred, tf.float32), name='accuracy')\n",
    "\n",
    "tests.test_conv_net(conv_net)"
   ]
  },
  {
   "cell_type": "markdown",
   "metadata": {
    "deletable": true,
    "editable": true
   },
   "source": [
    "## Train the Neural Network\n",
    "### Single Optimization\n",
    "Implement the function `train_neural_network` to do a single optimization.  The optimization should use `optimizer` to optimize in `session` with a `feed_dict` of the following:\n",
    "* `x` for image input\n",
    "* `y` for labels\n",
    "* `keep_prob` for keep probability for dropout\n",
    "\n",
    "This function will be called for each batch, so `tf.global_variables_initializer()` has already been called.\n",
    "\n",
    "Note: Nothing needs to be returned. This function is only optimizing the neural network."
   ]
  },
  {
   "cell_type": "code",
   "execution_count": 36,
   "metadata": {
    "collapsed": false,
    "deletable": true,
    "editable": true
   },
   "outputs": [
    {
     "name": "stdout",
     "output_type": "stream",
     "text": [
      "Tests Passed\n"
     ]
    }
   ],
   "source": [
    "def train_neural_network(session, optimizer, keep_probability, feature_batch, label_batch):\n",
    "    \"\"\"\n",
    "    Optimize the session on a batch of images and labels\n",
    "    : session: Current TensorFlow session\n",
    "    : optimizer: TensorFlow optimizer function\n",
    "    : keep_probability: keep probability\n",
    "    : feature_batch: Batch of Numpy image data\n",
    "    : label_batch: Batch of Numpy label data\n",
    "    \"\"\"\n",
    "    # TODO: Implement Function\n",
    "    session.run(optimizer, feed_dict={x: feature_batch, y: label_batch, keep_prob: keep_probability})\n",
    "\n",
    "\n",
    "\"\"\"\n",
    "DON'T MODIFY ANYTHING IN THIS CELL THAT IS BELOW THIS LINE\n",
    "\"\"\"\n",
    "tests.test_train_nn(train_neural_network)"
   ]
  },
  {
   "cell_type": "markdown",
   "metadata": {
    "deletable": true,
    "editable": true
   },
   "source": [
    "### Show Stats\n",
    "Implement the function `print_stats` to print loss and validation accuracy.  Use the global variables `valid_features` and `valid_labels` to calculate validation accuracy.  Use a keep probability of `1.0` to calculate the loss and validation accuracy."
   ]
  },
  {
   "cell_type": "code",
   "execution_count": 37,
   "metadata": {
    "collapsed": false,
    "deletable": true,
    "editable": true
   },
   "outputs": [],
   "source": [
    "def print_stats(session, feature_batch, label_batch, cost, accuracy):\n",
    "    \"\"\"\n",
    "    Print information about loss and validation accuracy\n",
    "    : session: Current TensorFlow session\n",
    "    : feature_batch: Batch of Numpy image data\n",
    "    : label_batch: Batch of Numpy label data\n",
    "    : cost: TensorFlow cost function\n",
    "    : accuracy: TensorFlow accuracy function\n",
    "    \"\"\"\n",
    "    # TODO: Implement Function\n",
    "    train_cost = session.run(cost, feed_dict={x: feature_batch, y: label_batch, keep_prob: 1.0})\n",
    "    valid_acc = session.run(accuracy, feed_dict={x: valid_features, y: valid_labels, keep_prob: 1.0})\n",
    "    print(\"Train loss {:>2.3f}, Validation accuracy {:>2.3f}%\".format(train_cost, valid_acc*100))"
   ]
  },
  {
   "cell_type": "markdown",
   "metadata": {
    "deletable": true,
    "editable": true
   },
   "source": [
    "### Hyperparameters\n",
    "Tune the following parameters:\n",
    "* Set `epochs` to the number of iterations until the network stops learning or start overfitting\n",
    "* Set `batch_size` to the highest number that your machine has memory for.  Most people set them to common sizes of memory:\n",
    " * 64\n",
    " * 128\n",
    " * 256\n",
    " * ...\n",
    "* Set `keep_probability` to the probability of keeping a node using dropout"
   ]
  },
  {
   "cell_type": "code",
   "execution_count": 38,
   "metadata": {
    "collapsed": true,
    "deletable": true,
    "editable": true
   },
   "outputs": [],
   "source": [
    "## TODO: Tune Parameters\n",
    "epochs = 50\n",
    "batch_size = 1024\n",
    "keep_probability = 0.5"
   ]
  },
  {
   "cell_type": "markdown",
   "metadata": {
    "deletable": true,
    "editable": true
   },
   "source": [
    "### Train on a Single CIFAR-10 Batch\n",
    "Instead of training the neural network on all the CIFAR-10 batches of data, let's use a single batch. This should save time while you iterate on the model to get a better accuracy.  Once the final validation accuracy is 50% or greater, run the model on all the data in the next section."
   ]
  },
  {
   "cell_type": "code",
   "execution_count": 39,
   "metadata": {
    "collapsed": false,
    "deletable": true,
    "editable": true,
    "scrolled": false
   },
   "outputs": [
    {
     "name": "stdout",
     "output_type": "stream",
     "text": [
      "Checking the Training on a Single Batch...\n",
      "Epoch  1, CIFAR-10 Batch 1:  Train loss 2.302, Validation accuracy 10.500%\n",
      "Epoch  2, CIFAR-10 Batch 1:  Train loss 2.291, Validation accuracy 15.000%\n",
      "Epoch  3, CIFAR-10 Batch 1:  Train loss 2.221, Validation accuracy 17.180%\n",
      "Epoch  4, CIFAR-10 Batch 1:  Train loss 2.148, Validation accuracy 17.080%\n",
      "Epoch  5, CIFAR-10 Batch 1:  Train loss 2.111, Validation accuracy 17.620%\n",
      "Epoch  6, CIFAR-10 Batch 1:  Train loss 2.084, Validation accuracy 20.800%\n",
      "Epoch  7, CIFAR-10 Batch 1:  Train loss 2.036, Validation accuracy 21.880%\n",
      "Epoch  8, CIFAR-10 Batch 1:  Train loss 2.061, Validation accuracy 21.200%\n",
      "Epoch  9, CIFAR-10 Batch 1:  Train loss 1.956, Validation accuracy 26.660%\n",
      "Epoch 10, CIFAR-10 Batch 1:  Train loss 1.939, Validation accuracy 25.580%\n",
      "Epoch 11, CIFAR-10 Batch 1:  Train loss 1.964, Validation accuracy 25.180%\n",
      "Epoch 12, CIFAR-10 Batch 1:  Train loss 1.898, Validation accuracy 27.360%\n",
      "Epoch 13, CIFAR-10 Batch 1:  Train loss 1.892, Validation accuracy 28.200%\n",
      "Epoch 14, CIFAR-10 Batch 1:  Train loss 1.813, Validation accuracy 30.860%\n",
      "Epoch 15, CIFAR-10 Batch 1:  Train loss 1.812, Validation accuracy 30.180%\n",
      "Epoch 16, CIFAR-10 Batch 1:  Train loss 1.757, Validation accuracy 33.000%\n",
      "Epoch 17, CIFAR-10 Batch 1:  Train loss 1.760, Validation accuracy 33.500%\n",
      "Epoch 18, CIFAR-10 Batch 1:  Train loss 1.750, Validation accuracy 33.120%\n",
      "Epoch 19, CIFAR-10 Batch 1:  Train loss 1.700, Validation accuracy 34.600%\n",
      "Epoch 20, CIFAR-10 Batch 1:  Train loss 1.678, Validation accuracy 36.200%\n",
      "Epoch 21, CIFAR-10 Batch 1:  Train loss 1.711, Validation accuracy 35.920%\n",
      "Epoch 22, CIFAR-10 Batch 1:  Train loss 1.616, Validation accuracy 37.920%\n",
      "Epoch 23, CIFAR-10 Batch 1:  Train loss 1.577, Validation accuracy 39.720%\n",
      "Epoch 24, CIFAR-10 Batch 1:  Train loss 1.563, Validation accuracy 40.460%\n",
      "Epoch 25, CIFAR-10 Batch 1:  Train loss 1.529, Validation accuracy 41.460%\n",
      "Epoch 26, CIFAR-10 Batch 1:  Train loss 1.557, Validation accuracy 41.320%\n",
      "Epoch 27, CIFAR-10 Batch 1:  Train loss 1.507, Validation accuracy 42.540%\n",
      "Epoch 28, CIFAR-10 Batch 1:  Train loss 1.487, Validation accuracy 43.280%\n",
      "Epoch 29, CIFAR-10 Batch 1:  Train loss 1.504, Validation accuracy 43.040%\n",
      "Epoch 30, CIFAR-10 Batch 1:  Train loss 1.488, Validation accuracy 44.020%\n",
      "Epoch 31, CIFAR-10 Batch 1:  Train loss 1.481, Validation accuracy 44.600%\n",
      "Epoch 32, CIFAR-10 Batch 1:  Train loss 1.436, Validation accuracy 45.720%\n",
      "Epoch 33, CIFAR-10 Batch 1:  Train loss 1.437, Validation accuracy 46.020%\n",
      "Epoch 34, CIFAR-10 Batch 1:  Train loss 1.415, Validation accuracy 46.300%\n",
      "Epoch 35, CIFAR-10 Batch 1:  Train loss 1.409, Validation accuracy 47.140%\n",
      "Epoch 36, CIFAR-10 Batch 1:  Train loss 1.423, Validation accuracy 46.820%\n",
      "Epoch 37, CIFAR-10 Batch 1:  Train loss 1.396, Validation accuracy 48.200%\n",
      "Epoch 38, CIFAR-10 Batch 1:  Train loss 1.398, Validation accuracy 48.520%\n",
      "Epoch 39, CIFAR-10 Batch 1:  Train loss 1.398, Validation accuracy 48.920%\n",
      "Epoch 40, CIFAR-10 Batch 1:  Train loss 1.357, Validation accuracy 50.120%\n",
      "Epoch 41, CIFAR-10 Batch 1:  Train loss 1.347, Validation accuracy 50.440%\n",
      "Epoch 42, CIFAR-10 Batch 1:  Train loss 1.389, Validation accuracy 49.520%\n",
      "Epoch 43, CIFAR-10 Batch 1:  Train loss 1.358, Validation accuracy 50.500%\n",
      "Epoch 44, CIFAR-10 Batch 1:  Train loss 1.334, Validation accuracy 51.020%\n",
      "Epoch 45, CIFAR-10 Batch 1:  Train loss 1.362, Validation accuracy 50.320%\n",
      "Epoch 46, CIFAR-10 Batch 1:  Train loss 1.353, Validation accuracy 51.160%\n",
      "Epoch 47, CIFAR-10 Batch 1:  Train loss 1.349, Validation accuracy 51.060%\n",
      "Epoch 48, CIFAR-10 Batch 1:  Train loss 1.376, Validation accuracy 50.100%\n",
      "Epoch 49, CIFAR-10 Batch 1:  Train loss 1.313, Validation accuracy 52.320%\n",
      "Epoch 50, CIFAR-10 Batch 1:  Train loss 1.368, Validation accuracy 50.560%\n"
     ]
    }
   ],
   "source": [
    "\"\"\"\n",
    "DON'T MODIFY ANYTHING IN THIS CELL\n",
    "\"\"\"\n",
    "print('Checking the Training on a Single Batch...')\n",
    "with tf.Session() as sess:\n",
    "    # Initializing the variables\n",
    "    sess.run(tf.global_variables_initializer())\n",
    "    \n",
    "    # Training cycle\n",
    "    for epoch in range(epochs):\n",
    "        batch_i = 1\n",
    "        for batch_features, batch_labels in helper.load_preprocess_training_batch(batch_i, batch_size):\n",
    "            train_neural_network(sess, optimizer, keep_probability, batch_features, batch_labels)\n",
    "        print('Epoch {:>2}, CIFAR-10 Batch {}:  '.format(epoch + 1, batch_i), end='')\n",
    "        print_stats(sess, valid_features, valid_labels, cost, accuracy)"
   ]
  },
  {
   "cell_type": "markdown",
   "metadata": {
    "deletable": true,
    "editable": true
   },
   "source": [
    "### Fully Train the Model\n",
    "Now that you got a good accuracy with a single CIFAR-10 batch, try it with all five batches."
   ]
  },
  {
   "cell_type": "code",
   "execution_count": 40,
   "metadata": {
    "collapsed": false,
    "deletable": true,
    "editable": true,
    "scrolled": false
   },
   "outputs": [
    {
     "name": "stdout",
     "output_type": "stream",
     "text": [
      "Epoch  1:  \n",
      "Train ACC 0.113, Valid ACC 0.105\n",
      "Train ACC 0.141, Valid ACC 0.139\n",
      "Train ACC 0.170, Valid ACC 0.174\n",
      "Train ACC 0.192, Valid ACC 0.188\n",
      "Train ACC 0.212, Valid ACC 0.194\n",
      "Epoch  2:  \n",
      "Train ACC 0.194, Valid ACC 0.208\n",
      "Train ACC 0.226, Valid ACC 0.203\n",
      "Train ACC 0.222, Valid ACC 0.198\n",
      "Train ACC 0.228, Valid ACC 0.209\n",
      "Train ACC 0.222, Valid ACC 0.220\n",
      "Epoch  3:  \n",
      "Train ACC 0.239, Valid ACC 0.237\n",
      "Train ACC 0.250, Valid ACC 0.235\n",
      "Train ACC 0.267, Valid ACC 0.243\n",
      "Train ACC 0.272, Valid ACC 0.257\n",
      "Train ACC 0.317, Valid ACC 0.288\n",
      "Epoch  4:  \n",
      "Train ACC 0.311, Valid ACC 0.294\n",
      "Train ACC 0.300, Valid ACC 0.293\n",
      "Train ACC 0.351, Valid ACC 0.321\n",
      "Train ACC 0.344, Valid ACC 0.330\n",
      "Train ACC 0.347, Valid ACC 0.346\n",
      "Epoch  5:  \n",
      "Train ACC 0.369, Valid ACC 0.347\n",
      "Train ACC 0.370, Valid ACC 0.344\n",
      "Train ACC 0.406, Valid ACC 0.370\n",
      "Train ACC 0.396, Valid ACC 0.373\n",
      "Train ACC 0.391, Valid ACC 0.385\n",
      "Epoch  6:  \n",
      "Train ACC 0.420, Valid ACC 0.399\n",
      "Train ACC 0.420, Valid ACC 0.407\n",
      "Train ACC 0.429, Valid ACC 0.413\n",
      "Train ACC 0.436, Valid ACC 0.427\n",
      "Train ACC 0.432, Valid ACC 0.441\n",
      "Epoch  7:  \n",
      "Train ACC 0.479, Valid ACC 0.450\n",
      "Train ACC 0.443, Valid ACC 0.458\n",
      "Train ACC 0.459, Valid ACC 0.431\n",
      "Train ACC 0.481, Valid ACC 0.458\n",
      "Train ACC 0.465, Valid ACC 0.467\n",
      "Epoch  8:  \n",
      "Train ACC 0.500, Valid ACC 0.473\n",
      "Train ACC 0.486, Valid ACC 0.481\n",
      "Train ACC 0.511, Valid ACC 0.470\n",
      "Train ACC 0.509, Valid ACC 0.489\n",
      "Train ACC 0.514, Valid ACC 0.495\n",
      "Epoch  9:  \n",
      "Train ACC 0.516, Valid ACC 0.487\n",
      "Train ACC 0.505, Valid ACC 0.499\n",
      "Train ACC 0.542, Valid ACC 0.493\n",
      "Train ACC 0.535, Valid ACC 0.507\n",
      "Train ACC 0.532, Valid ACC 0.508\n",
      "Epoch 10:  \n",
      "Train ACC 0.554, Valid ACC 0.520\n",
      "Train ACC 0.516, Valid ACC 0.510\n",
      "Train ACC 0.559, Valid ACC 0.507\n",
      "Train ACC 0.548, Valid ACC 0.524\n",
      "Train ACC 0.575, Valid ACC 0.533\n",
      "Epoch 11:  \n",
      "Train ACC 0.568, Valid ACC 0.537\n",
      "Train ACC 0.517, Valid ACC 0.500\n",
      "Train ACC 0.571, Valid ACC 0.524\n",
      "Train ACC 0.577, Valid ACC 0.533\n",
      "Train ACC 0.592, Valid ACC 0.544\n",
      "Epoch 12:  \n",
      "Train ACC 0.595, Valid ACC 0.551\n",
      "Train ACC 0.561, Valid ACC 0.536\n",
      "Train ACC 0.573, Valid ACC 0.541\n",
      "Train ACC 0.608, Valid ACC 0.563\n",
      "Train ACC 0.614, Valid ACC 0.557\n",
      "Epoch 13:  \n",
      "Train ACC 0.608, Valid ACC 0.566\n",
      "Train ACC 0.563, Valid ACC 0.537\n",
      "Train ACC 0.598, Valid ACC 0.543\n",
      "Train ACC 0.615, Valid ACC 0.570\n",
      "Train ACC 0.627, Valid ACC 0.574\n",
      "Epoch 14:  \n",
      "Train ACC 0.632, Valid ACC 0.581\n",
      "Train ACC 0.606, Valid ACC 0.575\n",
      "Train ACC 0.631, Valid ACC 0.580\n",
      "Train ACC 0.642, Valid ACC 0.583\n",
      "Train ACC 0.641, Valid ACC 0.587\n",
      "Epoch 15:  \n",
      "Train ACC 0.627, Valid ACC 0.584\n",
      "Train ACC 0.601, Valid ACC 0.569\n",
      "Train ACC 0.639, Valid ACC 0.591\n",
      "Train ACC 0.667, Valid ACC 0.606\n",
      "Train ACC 0.670, Valid ACC 0.592\n",
      "Epoch 16:  \n",
      "Train ACC 0.655, Valid ACC 0.601\n",
      "Train ACC 0.626, Valid ACC 0.594\n",
      "Train ACC 0.665, Valid ACC 0.593\n",
      "Train ACC 0.671, Valid ACC 0.599\n",
      "Train ACC 0.688, Valid ACC 0.608\n",
      "Epoch 17:  \n",
      "Train ACC 0.661, Valid ACC 0.617\n",
      "Train ACC 0.634, Valid ACC 0.591\n",
      "Train ACC 0.675, Valid ACC 0.605\n",
      "Train ACC 0.688, Valid ACC 0.613\n",
      "Train ACC 0.699, Valid ACC 0.615\n",
      "Epoch 18:  \n",
      "Train ACC 0.688, Valid ACC 0.625\n",
      "Train ACC 0.675, Valid ACC 0.622\n",
      "Train ACC 0.691, Valid ACC 0.620\n",
      "Train ACC 0.709, Valid ACC 0.629\n",
      "Train ACC 0.712, Valid ACC 0.620\n",
      "Epoch 19:  \n",
      "Train ACC 0.698, Valid ACC 0.626\n",
      "Train ACC 0.683, Valid ACC 0.631\n",
      "Train ACC 0.703, Valid ACC 0.630\n",
      "Train ACC 0.741, Valid ACC 0.635\n",
      "Train ACC 0.730, Valid ACC 0.631\n",
      "Epoch 20:  \n",
      "Train ACC 0.712, Valid ACC 0.639\n",
      "Train ACC 0.696, Valid ACC 0.623\n",
      "Train ACC 0.722, Valid ACC 0.629\n",
      "Train ACC 0.751, Valid ACC 0.643\n",
      "Train ACC 0.743, Valid ACC 0.636\n",
      "Epoch 21:  \n",
      "Train ACC 0.719, Valid ACC 0.645\n",
      "Train ACC 0.687, Valid ACC 0.605\n",
      "Train ACC 0.684, Valid ACC 0.615\n",
      "Train ACC 0.724, Valid ACC 0.625\n",
      "Train ACC 0.740, Valid ACC 0.650\n",
      "Epoch 22:  \n",
      "Train ACC 0.751, Valid ACC 0.652\n",
      "Train ACC 0.735, Valid ACC 0.645\n",
      "Train ACC 0.707, Valid ACC 0.623\n",
      "Train ACC 0.749, Valid ACC 0.646\n",
      "Train ACC 0.762, Valid ACC 0.646\n",
      "Epoch 23:  \n",
      "Train ACC 0.749, Valid ACC 0.651\n",
      "Train ACC 0.743, Valid ACC 0.641\n",
      "Train ACC 0.746, Valid ACC 0.640\n",
      "Train ACC 0.751, Valid ACC 0.639\n",
      "Train ACC 0.759, Valid ACC 0.649\n",
      "Epoch 24:  \n",
      "Train ACC 0.774, Valid ACC 0.656\n",
      "Train ACC 0.755, Valid ACC 0.645\n",
      "Train ACC 0.767, Valid ACC 0.652\n",
      "Train ACC 0.785, Valid ACC 0.662\n",
      "Train ACC 0.774, Valid ACC 0.661\n",
      "Epoch 25:  \n",
      "Train ACC 0.772, Valid ACC 0.656\n",
      "Train ACC 0.744, Valid ACC 0.632\n",
      "Train ACC 0.775, Valid ACC 0.652\n",
      "Train ACC 0.766, Valid ACC 0.649\n",
      "Train ACC 0.788, Valid ACC 0.650\n",
      "Epoch 26:  \n",
      "Train ACC 0.782, Valid ACC 0.655\n",
      "Train ACC 0.731, Valid ACC 0.624\n",
      "Train ACC 0.761, Valid ACC 0.644\n",
      "Train ACC 0.762, Valid ACC 0.636\n",
      "Train ACC 0.787, Valid ACC 0.654\n",
      "Epoch 27:  \n",
      "Train ACC 0.803, Valid ACC 0.665\n",
      "Train ACC 0.806, Valid ACC 0.671\n",
      "Train ACC 0.783, Valid ACC 0.655\n",
      "Train ACC 0.786, Valid ACC 0.649\n",
      "Train ACC 0.797, Valid ACC 0.658\n",
      "Epoch 28:  \n",
      "Train ACC 0.811, Valid ACC 0.656\n",
      "Train ACC 0.792, Valid ACC 0.646\n",
      "Train ACC 0.800, Valid ACC 0.670\n",
      "Train ACC 0.818, Valid ACC 0.671\n",
      "Train ACC 0.804, Valid ACC 0.661\n",
      "Epoch 29:  \n",
      "Train ACC 0.800, Valid ACC 0.671\n",
      "Train ACC 0.811, Valid ACC 0.673\n",
      "Train ACC 0.786, Valid ACC 0.646\n",
      "Train ACC 0.778, Valid ACC 0.638\n",
      "Train ACC 0.785, Valid ACC 0.651\n",
      "Epoch 30:  \n",
      "Train ACC 0.809, Valid ACC 0.662\n",
      "Train ACC 0.824, Valid ACC 0.672\n",
      "Train ACC 0.813, Valid ACC 0.652\n",
      "Train ACC 0.806, Valid ACC 0.655\n",
      "Train ACC 0.798, Valid ACC 0.642\n",
      "Epoch 31:  \n",
      "Train ACC 0.832, Valid ACC 0.671\n",
      "Train ACC 0.823, Valid ACC 0.673\n",
      "Train ACC 0.813, Valid ACC 0.650\n",
      "Train ACC 0.811, Valid ACC 0.648\n",
      "Train ACC 0.811, Valid ACC 0.660\n",
      "Epoch 32:  \n",
      "Train ACC 0.838, Valid ACC 0.665\n",
      "Train ACC 0.827, Valid ACC 0.660\n",
      "Train ACC 0.804, Valid ACC 0.654\n",
      "Train ACC 0.843, Valid ACC 0.650\n",
      "Train ACC 0.801, Valid ACC 0.647\n",
      "Epoch 33:  \n",
      "Train ACC 0.824, Valid ACC 0.657\n",
      "Train ACC 0.834, Valid ACC 0.668\n",
      "Train ACC 0.832, Valid ACC 0.662\n",
      "Train ACC 0.830, Valid ACC 0.648\n",
      "Train ACC 0.832, Valid ACC 0.664\n",
      "Epoch 34:  \n",
      "Train ACC 0.828, Valid ACC 0.662\n",
      "Train ACC 0.845, Valid ACC 0.679\n",
      "Train ACC 0.850, Valid ACC 0.667\n",
      "Train ACC 0.844, Valid ACC 0.657\n",
      "Train ACC 0.818, Valid ACC 0.643\n",
      "Epoch 35:  \n",
      "Train ACC 0.843, Valid ACC 0.662\n",
      "Train ACC 0.853, Valid ACC 0.673\n",
      "Train ACC 0.847, Valid ACC 0.667\n",
      "Train ACC 0.856, Valid ACC 0.666\n",
      "Train ACC 0.837, Valid ACC 0.657\n",
      "Epoch 36:  \n",
      "Train ACC 0.848, Valid ACC 0.662\n",
      "Train ACC 0.868, Valid ACC 0.672\n",
      "Train ACC 0.856, Valid ACC 0.661\n",
      "Train ACC 0.865, Valid ACC 0.666\n",
      "Train ACC 0.868, Valid ACC 0.682\n",
      "Epoch 37:  \n",
      "Train ACC 0.865, Valid ACC 0.666\n",
      "Train ACC 0.879, Valid ACC 0.671\n",
      "Train ACC 0.863, Valid ACC 0.670\n",
      "Train ACC 0.868, Valid ACC 0.668\n",
      "Train ACC 0.866, Valid ACC 0.671\n",
      "Epoch 38:  \n",
      "Train ACC 0.866, Valid ACC 0.661\n",
      "Train ACC 0.854, Valid ACC 0.651\n",
      "Train ACC 0.859, Valid ACC 0.663\n",
      "Train ACC 0.853, Valid ACC 0.646\n",
      "Train ACC 0.890, Valid ACC 0.675\n",
      "Epoch 39:  \n",
      "Train ACC 0.864, Valid ACC 0.671\n",
      "Train ACC 0.868, Valid ACC 0.660\n",
      "Train ACC 0.858, Valid ACC 0.669\n",
      "Train ACC 0.864, Valid ACC 0.677\n",
      "Train ACC 0.845, Valid ACC 0.659\n",
      "Epoch 40:  \n",
      "Train ACC 0.873, Valid ACC 0.668\n",
      "Train ACC 0.879, Valid ACC 0.678\n",
      "Train ACC 0.844, Valid ACC 0.661\n",
      "Train ACC 0.882, Valid ACC 0.661\n",
      "Train ACC 0.886, Valid ACC 0.674\n",
      "Epoch 41:  \n",
      "Train ACC 0.863, Valid ACC 0.662\n",
      "Train ACC 0.871, Valid ACC 0.665\n",
      "Train ACC 0.861, Valid ACC 0.666\n",
      "Train ACC 0.911, Valid ACC 0.672\n",
      "Train ACC 0.899, Valid ACC 0.675\n",
      "Epoch 42:  \n",
      "Train ACC 0.885, Valid ACC 0.669\n",
      "Train ACC 0.900, Valid ACC 0.678\n",
      "Train ACC 0.887, Valid ACC 0.676\n",
      "Train ACC 0.921, Valid ACC 0.673\n",
      "Train ACC 0.901, Valid ACC 0.657\n",
      "Epoch 43:  \n",
      "Train ACC 0.895, Valid ACC 0.667\n",
      "Train ACC 0.903, Valid ACC 0.670\n",
      "Train ACC 0.884, Valid ACC 0.677\n",
      "Train ACC 0.912, Valid ACC 0.676\n",
      "Train ACC 0.905, Valid ACC 0.668\n",
      "Epoch 44:  \n",
      "Train ACC 0.903, Valid ACC 0.661\n",
      "Train ACC 0.885, Valid ACC 0.648\n",
      "Train ACC 0.855, Valid ACC 0.655\n",
      "Train ACC 0.907, Valid ACC 0.663\n",
      "Train ACC 0.913, Valid ACC 0.666\n",
      "Epoch 45:  \n",
      "Train ACC 0.840, Valid ACC 0.633\n",
      "Train ACC 0.840, Valid ACC 0.635\n",
      "Train ACC 0.880, Valid ACC 0.663\n",
      "Train ACC 0.902, Valid ACC 0.681\n",
      "Train ACC 0.916, Valid ACC 0.674\n",
      "Epoch 46:  \n",
      "Train ACC 0.905, Valid ACC 0.667\n",
      "Train ACC 0.900, Valid ACC 0.661\n",
      "Train ACC 0.869, Valid ACC 0.653\n",
      "Train ACC 0.900, Valid ACC 0.657\n",
      "Train ACC 0.925, Valid ACC 0.671\n",
      "Epoch 47:  \n",
      "Train ACC 0.901, Valid ACC 0.667\n",
      "Train ACC 0.917, Valid ACC 0.659\n",
      "Train ACC 0.880, Valid ACC 0.671\n",
      "Train ACC 0.890, Valid ACC 0.655\n",
      "Train ACC 0.907, Valid ACC 0.675\n",
      "Epoch 48:  \n",
      "Train ACC 0.927, Valid ACC 0.681\n",
      "Train ACC 0.908, Valid ACC 0.645\n",
      "Train ACC 0.863, Valid ACC 0.646\n",
      "Train ACC 0.895, Valid ACC 0.654\n",
      "Train ACC 0.894, Valid ACC 0.664\n",
      "Epoch 49:  \n",
      "Train ACC 0.910, Valid ACC 0.673\n",
      "Train ACC 0.934, Valid ACC 0.669\n",
      "Train ACC 0.892, Valid ACC 0.655\n",
      "Train ACC 0.928, Valid ACC 0.658\n",
      "Train ACC 0.916, Valid ACC 0.659\n",
      "Epoch 50:  \n",
      "Train ACC 0.886, Valid ACC 0.661\n",
      "Train ACC 0.915, Valid ACC 0.660\n",
      "Train ACC 0.915, Valid ACC 0.652\n",
      "Train ACC 0.915, Valid ACC 0.648\n",
      "Train ACC 0.934, Valid ACC 0.654\n"
     ]
    },
    {
     "data": {
      "image/png": "[encoded data removed]",
      "text/plain": [
       "<matplotlib.figure.Figure at 0x7f9bd015df28>"
      ]
     },
     "metadata": {
      "image/png": {
       "height": 250,
       "width": 373
      }
     },
     "output_type": "display_data"
    }
   ],
   "source": [
    "train_acc_list = []\n",
    "valid_acc_list = []\n",
    "\n",
    "with tf.Session() as sess:\n",
    "    # Initializing the variables\n",
    "    sess.run(tf.global_variables_initializer())\n",
    "    \n",
    "    # Training cycle\n",
    "    for epoch in range(epochs):\n",
    "        # Loop over all batches\n",
    "        n_batches = 5\n",
    "        for batch_i in range(1, n_batches + 1):\n",
    "            for batch_features, batch_labels in helper.load_preprocess_training_batch(batch_i, batch_size):\n",
    "                train_neural_network(sess, optimizer, keep_probability, batch_features, batch_labels)\n",
    "            train_acc = sess.run(accuracy, feed_dict={x: batch_features, y: batch_labels, keep_prob: 1.0})\n",
    "            valid_acc = sess.run(accuracy, feed_dict={x: valid_features, y: valid_labels, keep_prob: 1.0})\n",
    "            if batch_i is 1: \n",
    "                print('Epoch {:>2}:  '.format(epoch + 1))\n",
    "            print('Train ACC {:>2.3f}%, Valid ACC {:>2.3f}%'.format(train_acc*100, valid_acc*100))\n",
    "            train_acc_list.append(train_acc)\n",
    "            valid_acc_list.append(valid_acc)            \n",
    "\n",
    "import matplotlib.pyplot as plt\n",
    "%matplotlib inline\n",
    "\n",
    "plt.plot(train_acc_list)\n",
    "plt.plot(valid_acc_list)\n",
    "plt.show()"
   ]
  },
  {
   "cell_type": "code",
   "execution_count": 41,
   "metadata": {
    "collapsed": false,
    "deletable": true,
    "editable": true,
    "scrolled": false
   },
   "outputs": [
    {
     "name": "stdout",
     "output_type": "stream",
     "text": [
      "Training...\n",
      "Epoch  1, CIFAR-10 Batch 1:  Train loss 2.299, Validation accuracy 10.500%\n",
      "Epoch  1, CIFAR-10 Batch 2:  Train loss 2.246, Validation accuracy 13.000%\n",
      "Epoch  1, CIFAR-10 Batch 3:  Train loss 2.201, Validation accuracy 16.620%\n",
      "Epoch  1, CIFAR-10 Batch 4:  Train loss 2.117, Validation accuracy 17.280%\n",
      "Epoch  1, CIFAR-10 Batch 5:  Train loss 2.058, Validation accuracy 19.360%\n",
      "Epoch  2, CIFAR-10 Batch 1:  Train loss 2.086, Validation accuracy 19.920%\n",
      "Epoch  2, CIFAR-10 Batch 2:  Train loss 2.034, Validation accuracy 21.860%\n",
      "Epoch  2, CIFAR-10 Batch 3:  Train loss 1.968, Validation accuracy 21.000%\n",
      "Epoch  2, CIFAR-10 Batch 4:  Train loss 2.014, Validation accuracy 22.300%\n",
      "Epoch  2, CIFAR-10 Batch 5:  Train loss 1.974, Validation accuracy 21.180%\n",
      "Epoch  3, CIFAR-10 Batch 1:  Train loss 1.993, Validation accuracy 24.000%\n",
      "Epoch  3, CIFAR-10 Batch 2:  Train loss 1.936, Validation accuracy 23.500%\n",
      "Epoch  3, CIFAR-10 Batch 3:  Train loss 1.914, Validation accuracy 25.280%\n",
      "Epoch  3, CIFAR-10 Batch 4:  Train loss 1.860, Validation accuracy 26.640%\n",
      "Epoch  3, CIFAR-10 Batch 5:  Train loss 1.869, Validation accuracy 28.980%\n",
      "Epoch  4, CIFAR-10 Batch 1:  Train loss 1.865, Validation accuracy 29.500%\n",
      "Epoch  4, CIFAR-10 Batch 2:  Train loss 1.842, Validation accuracy 29.500%\n",
      "Epoch  4, CIFAR-10 Batch 3:  Train loss 1.741, Validation accuracy 31.120%\n",
      "Epoch  4, CIFAR-10 Batch 4:  Train loss 1.744, Validation accuracy 31.720%\n",
      "Epoch  4, CIFAR-10 Batch 5:  Train loss 1.743, Validation accuracy 33.560%\n",
      "Epoch  5, CIFAR-10 Batch 1:  Train loss 1.745, Validation accuracy 34.440%\n",
      "Epoch  5, CIFAR-10 Batch 2:  Train loss 1.739, Validation accuracy 34.860%\n",
      "Epoch  5, CIFAR-10 Batch 3:  Train loss 1.639, Validation accuracy 35.120%\n",
      "Epoch  5, CIFAR-10 Batch 4:  Train loss 1.654, Validation accuracy 36.800%\n",
      "Epoch  5, CIFAR-10 Batch 5:  Train loss 1.660, Validation accuracy 37.180%\n",
      "Epoch  6, CIFAR-10 Batch 1:  Train loss 1.694, Validation accuracy 35.920%\n",
      "Epoch  6, CIFAR-10 Batch 2:  Train loss 1.718, Validation accuracy 35.560%\n",
      "Epoch  6, CIFAR-10 Batch 3:  Train loss 1.600, Validation accuracy 37.360%\n",
      "Epoch  6, CIFAR-10 Batch 4:  Train loss 1.583, Validation accuracy 39.520%\n",
      "Epoch  6, CIFAR-10 Batch 5:  Train loss 1.563, Validation accuracy 40.060%\n",
      "Epoch  7, CIFAR-10 Batch 1:  Train loss 1.539, Validation accuracy 40.080%\n",
      "Epoch  7, CIFAR-10 Batch 2:  Train loss 1.606, Validation accuracy 40.260%\n",
      "Epoch  7, CIFAR-10 Batch 3:  Train loss 1.476, Validation accuracy 42.500%\n",
      "Epoch  7, CIFAR-10 Batch 4:  Train loss 1.473, Validation accuracy 43.820%\n",
      "Epoch  7, CIFAR-10 Batch 5:  Train loss 1.464, Validation accuracy 44.760%\n",
      "Epoch  8, CIFAR-10 Batch 1:  Train loss 1.425, Validation accuracy 45.720%\n",
      "Epoch  8, CIFAR-10 Batch 2:  Train loss 1.467, Validation accuracy 46.640%\n",
      "Epoch  8, CIFAR-10 Batch 3:  Train loss 1.361, Validation accuracy 46.780%\n",
      "Epoch  8, CIFAR-10 Batch 4:  Train loss 1.373, Validation accuracy 48.080%\n",
      "Epoch  8, CIFAR-10 Batch 5:  Train loss 1.371, Validation accuracy 47.920%\n",
      "Epoch  9, CIFAR-10 Batch 1:  Train loss 1.403, Validation accuracy 48.560%\n",
      "Epoch  9, CIFAR-10 Batch 2:  Train loss 1.382, Validation accuracy 49.660%\n",
      "Epoch  9, CIFAR-10 Batch 3:  Train loss 1.300, Validation accuracy 49.300%\n",
      "Epoch  9, CIFAR-10 Batch 4:  Train loss 1.313, Validation accuracy 50.420%\n",
      "Epoch  9, CIFAR-10 Batch 5:  Train loss 1.300, Validation accuracy 50.860%\n",
      "Epoch 10, CIFAR-10 Batch 1:  Train loss 1.289, Validation accuracy 51.980%\n",
      "Epoch 10, CIFAR-10 Batch 2:  Train loss 1.305, Validation accuracy 50.880%\n",
      "Epoch 10, CIFAR-10 Batch 3:  Train loss 1.233, Validation accuracy 51.200%\n",
      "Epoch 10, CIFAR-10 Batch 4:  Train loss 1.257, Validation accuracy 52.960%\n",
      "Epoch 10, CIFAR-10 Batch 5:  Train loss 1.259, Validation accuracy 52.240%\n",
      "Epoch 11, CIFAR-10 Batch 1:  Train loss 1.257, Validation accuracy 53.400%\n",
      "Epoch 11, CIFAR-10 Batch 2:  Train loss 1.243, Validation accuracy 52.080%\n",
      "Epoch 11, CIFAR-10 Batch 3:  Train loss 1.172, Validation accuracy 53.200%\n",
      "Epoch 11, CIFAR-10 Batch 4:  Train loss 1.214, Validation accuracy 53.700%\n",
      "Epoch 11, CIFAR-10 Batch 5:  Train loss 1.184, Validation accuracy 53.980%\n",
      "Epoch 12, CIFAR-10 Batch 1:  Train loss 1.220, Validation accuracy 55.060%\n",
      "Epoch 12, CIFAR-10 Batch 2:  Train loss 1.195, Validation accuracy 53.440%\n",
      "Epoch 12, CIFAR-10 Batch 3:  Train loss 1.117, Validation accuracy 55.200%\n",
      "Epoch 12, CIFAR-10 Batch 4:  Train loss 1.132, Validation accuracy 56.340%\n",
      "Epoch 12, CIFAR-10 Batch 5:  Train loss 1.125, Validation accuracy 56.100%\n",
      "Epoch 13, CIFAR-10 Batch 1:  Train loss 1.156, Validation accuracy 57.000%\n",
      "Epoch 13, CIFAR-10 Batch 2:  Train loss 1.143, Validation accuracy 55.360%\n",
      "Epoch 13, CIFAR-10 Batch 3:  Train loss 1.057, Validation accuracy 56.900%\n",
      "Epoch 13, CIFAR-10 Batch 4:  Train loss 1.065, Validation accuracy 57.820%\n",
      "Epoch 13, CIFAR-10 Batch 5:  Train loss 1.063, Validation accuracy 57.900%\n",
      "Epoch 14, CIFAR-10 Batch 1:  Train loss 1.088, Validation accuracy 59.000%\n",
      "Epoch 14, CIFAR-10 Batch 2:  Train loss 1.129, Validation accuracy 55.680%\n",
      "Epoch 14, CIFAR-10 Batch 3:  Train loss 1.025, Validation accuracy 58.440%\n",
      "Epoch 14, CIFAR-10 Batch 4:  Train loss 1.022, Validation accuracy 58.880%\n",
      "Epoch 14, CIFAR-10 Batch 5:  Train loss 1.015, Validation accuracy 58.540%\n",
      "Epoch 15, CIFAR-10 Batch 1:  Train loss 1.049, Validation accuracy 59.160%\n",
      "Epoch 15, CIFAR-10 Batch 2:  Train loss 1.032, Validation accuracy 59.280%\n",
      "Epoch 15, CIFAR-10 Batch 3:  Train loss 0.982, Validation accuracy 59.300%\n",
      "Epoch 15, CIFAR-10 Batch 4:  Train loss 0.975, Validation accuracy 60.160%\n",
      "Epoch 15, CIFAR-10 Batch 5:  Train loss 0.966, Validation accuracy 59.780%\n",
      "Epoch 16, CIFAR-10 Batch 1:  Train loss 1.009, Validation accuracy 58.980%\n",
      "Epoch 16, CIFAR-10 Batch 2:  Train loss 1.164, Validation accuracy 53.640%\n",
      "Epoch 16, CIFAR-10 Batch 3:  Train loss 1.021, Validation accuracy 57.700%\n",
      "Epoch 16, CIFAR-10 Batch 4:  Train loss 0.978, Validation accuracy 59.800%\n",
      "Epoch 16, CIFAR-10 Batch 5:  Train loss 0.936, Validation accuracy 60.380%\n",
      "Epoch 17, CIFAR-10 Batch 1:  Train loss 0.953, Validation accuracy 60.800%\n",
      "Epoch 17, CIFAR-10 Batch 2:  Train loss 1.003, Validation accuracy 59.400%\n",
      "Epoch 17, CIFAR-10 Batch 3:  Train loss 0.992, Validation accuracy 58.900%\n",
      "Epoch 17, CIFAR-10 Batch 4:  Train loss 0.939, Validation accuracy 60.800%\n",
      "Epoch 17, CIFAR-10 Batch 5:  Train loss 0.897, Validation accuracy 62.080%\n",
      "Epoch 18, CIFAR-10 Batch 1:  Train loss 0.903, Validation accuracy 61.580%\n",
      "Epoch 18, CIFAR-10 Batch 2:  Train loss 0.986, Validation accuracy 59.600%\n",
      "Epoch 18, CIFAR-10 Batch 3:  Train loss 0.898, Validation accuracy 61.820%\n",
      "Epoch 18, CIFAR-10 Batch 4:  Train loss 0.890, Validation accuracy 62.140%\n",
      "Epoch 18, CIFAR-10 Batch 5:  Train loss 0.863, Validation accuracy 63.140%\n",
      "Epoch 19, CIFAR-10 Batch 1:  Train loss 0.866, Validation accuracy 62.200%\n",
      "Epoch 19, CIFAR-10 Batch 2:  Train loss 0.972, Validation accuracy 60.300%\n",
      "Epoch 19, CIFAR-10 Batch 3:  Train loss 0.870, Validation accuracy 62.640%\n",
      "Epoch 19, CIFAR-10 Batch 4:  Train loss 0.843, Validation accuracy 63.320%\n",
      "Epoch 19, CIFAR-10 Batch 5:  Train loss 0.859, Validation accuracy 62.500%\n",
      "Epoch 20, CIFAR-10 Batch 1:  Train loss 0.832, Validation accuracy 63.020%\n",
      "Epoch 20, CIFAR-10 Batch 2:  Train loss 0.874, Validation accuracy 63.640%\n",
      "Epoch 20, CIFAR-10 Batch 3:  Train loss 0.853, Validation accuracy 63.200%\n",
      "Epoch 20, CIFAR-10 Batch 4:  Train loss 0.818, Validation accuracy 63.820%\n",
      "Epoch 20, CIFAR-10 Batch 5:  Train loss 0.810, Validation accuracy 63.960%\n",
      "Epoch 21, CIFAR-10 Batch 1:  Train loss 0.828, Validation accuracy 62.260%\n",
      "Epoch 21, CIFAR-10 Batch 2:  Train loss 0.955, Validation accuracy 61.860%\n",
      "Epoch 21, CIFAR-10 Batch 3:  Train loss 0.804, Validation accuracy 64.820%\n",
      "Epoch 21, CIFAR-10 Batch 4:  Train loss 0.771, Validation accuracy 65.820%\n",
      "Epoch 21, CIFAR-10 Batch 5:  Train loss 0.745, Validation accuracy 66.120%\n",
      "Epoch 22, CIFAR-10 Batch 1:  Train loss 0.805, Validation accuracy 62.840%\n",
      "Epoch 22, CIFAR-10 Batch 2:  Train loss 0.883, Validation accuracy 63.780%\n",
      "Epoch 22, CIFAR-10 Batch 3:  Train loss 0.775, Validation accuracy 65.400%\n",
      "Epoch 22, CIFAR-10 Batch 4:  Train loss 0.732, Validation accuracy 66.220%\n",
      "Epoch 22, CIFAR-10 Batch 5:  Train loss 0.708, Validation accuracy 66.400%\n",
      "Epoch 23, CIFAR-10 Batch 1:  Train loss 0.714, Validation accuracy 65.640%\n",
      "Epoch 23, CIFAR-10 Batch 2:  Train loss 0.784, Validation accuracy 66.140%\n",
      "Epoch 23, CIFAR-10 Batch 3:  Train loss 0.757, Validation accuracy 65.840%\n",
      "Epoch 23, CIFAR-10 Batch 4:  Train loss 0.690, Validation accuracy 66.960%\n",
      "Epoch 23, CIFAR-10 Batch 5:  Train loss 0.670, Validation accuracy 66.920%\n",
      "Epoch 24, CIFAR-10 Batch 1:  Train loss 0.698, Validation accuracy 65.760%\n",
      "Epoch 24, CIFAR-10 Batch 2:  Train loss 0.766, Validation accuracy 65.920%\n",
      "Epoch 24, CIFAR-10 Batch 3:  Train loss 0.695, Validation accuracy 67.480%\n",
      "Epoch 24, CIFAR-10 Batch 4:  Train loss 0.662, Validation accuracy 67.220%\n",
      "Epoch 24, CIFAR-10 Batch 5:  Train loss 0.641, Validation accuracy 67.360%\n",
      "Epoch 25, CIFAR-10 Batch 1:  Train loss 0.644, Validation accuracy 66.600%\n",
      "Epoch 25, CIFAR-10 Batch 2:  Train loss 0.727, Validation accuracy 66.860%\n",
      "Epoch 25, CIFAR-10 Batch 3:  Train loss 0.668, Validation accuracy 67.480%\n",
      "Epoch 25, CIFAR-10 Batch 4:  Train loss 0.631, Validation accuracy 67.280%\n",
      "Epoch 25, CIFAR-10 Batch 5:  Train loss 0.614, Validation accuracy 67.120%\n",
      "Epoch 26, CIFAR-10 Batch 1:  Train loss 0.628, Validation accuracy 66.280%\n",
      "Epoch 26, CIFAR-10 Batch 2:  Train loss 0.760, Validation accuracy 64.800%\n",
      "Epoch 26, CIFAR-10 Batch 3:  Train loss 0.679, Validation accuracy 66.780%\n",
      "Epoch 26, CIFAR-10 Batch 4:  Train loss 0.630, Validation accuracy 67.740%\n",
      "Epoch 26, CIFAR-10 Batch 5:  Train loss 0.595, Validation accuracy 66.900%\n",
      "Epoch 27, CIFAR-10 Batch 1:  Train loss 0.582, Validation accuracy 67.400%\n",
      "Epoch 27, CIFAR-10 Batch 2:  Train loss 0.653, Validation accuracy 67.620%\n",
      "Epoch 27, CIFAR-10 Batch 3:  Train loss 0.625, Validation accuracy 67.540%\n",
      "Epoch 27, CIFAR-10 Batch 4:  Train loss 0.601, Validation accuracy 68.080%\n",
      "Epoch 27, CIFAR-10 Batch 5:  Train loss 0.635, Validation accuracy 64.820%\n",
      "Epoch 28, CIFAR-10 Batch 1:  Train loss 0.664, Validation accuracy 64.980%\n",
      "Epoch 28, CIFAR-10 Batch 2:  Train loss 0.636, Validation accuracy 68.760%\n",
      "Epoch 28, CIFAR-10 Batch 3:  Train loss 0.591, Validation accuracy 67.960%\n",
      "Epoch 28, CIFAR-10 Batch 4:  Train loss 0.574, Validation accuracy 67.780%\n",
      "Epoch 28, CIFAR-10 Batch 5:  Train loss 0.544, Validation accuracy 66.100%\n",
      "Epoch 29, CIFAR-10 Batch 1:  Train loss 0.599, Validation accuracy 65.340%\n",
      "Epoch 29, CIFAR-10 Batch 2:  Train loss 0.607, Validation accuracy 68.220%\n",
      "Epoch 29, CIFAR-10 Batch 3:  Train loss 0.555, Validation accuracy 68.300%\n",
      "Epoch 29, CIFAR-10 Batch 4:  Train loss 0.531, Validation accuracy 68.680%\n",
      "Epoch 29, CIFAR-10 Batch 5:  Train loss 0.493, Validation accuracy 67.020%\n",
      "Epoch 30, CIFAR-10 Batch 1:  Train loss 0.540, Validation accuracy 66.960%\n",
      "Epoch 30, CIFAR-10 Batch 2:  Train loss 0.567, Validation accuracy 67.480%\n",
      "Epoch 30, CIFAR-10 Batch 3:  Train loss 0.518, Validation accuracy 68.520%\n",
      "Epoch 30, CIFAR-10 Batch 4:  Train loss 0.506, Validation accuracy 68.040%\n",
      "Epoch 30, CIFAR-10 Batch 5:  Train loss 0.461, Validation accuracy 67.920%\n",
      "Epoch 31, CIFAR-10 Batch 1:  Train loss 0.474, Validation accuracy 69.000%\n",
      "Epoch 31, CIFAR-10 Batch 2:  Train loss 0.549, Validation accuracy 67.740%\n",
      "Epoch 31, CIFAR-10 Batch 3:  Train loss 0.508, Validation accuracy 68.240%\n",
      "Epoch 31, CIFAR-10 Batch 4:  Train loss 0.486, Validation accuracy 67.840%\n",
      "Epoch 31, CIFAR-10 Batch 5:  Train loss 0.500, Validation accuracy 65.480%\n",
      "Epoch 32, CIFAR-10 Batch 1:  Train loss 0.452, Validation accuracy 68.780%\n",
      "Epoch 32, CIFAR-10 Batch 2:  Train loss 0.598, Validation accuracy 65.560%\n",
      "Epoch 32, CIFAR-10 Batch 3:  Train loss 0.487, Validation accuracy 68.300%\n",
      "Epoch 32, CIFAR-10 Batch 4:  Train loss 0.477, Validation accuracy 68.440%\n",
      "Epoch 32, CIFAR-10 Batch 5:  Train loss 0.459, Validation accuracy 66.240%\n",
      "Epoch 33, CIFAR-10 Batch 1:  Train loss 0.475, Validation accuracy 67.680%\n",
      "Epoch 33, CIFAR-10 Batch 2:  Train loss 0.569, Validation accuracy 67.740%\n",
      "Epoch 33, CIFAR-10 Batch 3:  Train loss 0.539, Validation accuracy 66.540%\n",
      "Epoch 33, CIFAR-10 Batch 4:  Train loss 0.514, Validation accuracy 67.300%\n",
      "Epoch 33, CIFAR-10 Batch 5:  Train loss 0.474, Validation accuracy 66.080%\n",
      "Epoch 34, CIFAR-10 Batch 1:  Train loss 0.473, Validation accuracy 67.360%\n",
      "Epoch 34, CIFAR-10 Batch 2:  Train loss 0.583, Validation accuracy 65.920%\n",
      "Epoch 34, CIFAR-10 Batch 3:  Train loss 0.573, Validation accuracy 65.900%\n",
      "Epoch 34, CIFAR-10 Batch 4:  Train loss 0.575, Validation accuracy 65.480%\n",
      "Epoch 34, CIFAR-10 Batch 5:  Train loss 0.470, Validation accuracy 67.940%\n",
      "Epoch 35, CIFAR-10 Batch 1:  Train loss 0.406, Validation accuracy 68.080%\n",
      "Epoch 35, CIFAR-10 Batch 2:  Train loss 0.500, Validation accuracy 68.440%\n",
      "Epoch 35, CIFAR-10 Batch 3:  Train loss 0.490, Validation accuracy 66.980%\n",
      "Epoch 35, CIFAR-10 Batch 4:  Train loss 0.568, Validation accuracy 64.780%\n",
      "Epoch 35, CIFAR-10 Batch 5:  Train loss 0.442, Validation accuracy 67.940%\n",
      "Epoch 36, CIFAR-10 Batch 1:  Train loss 0.376, Validation accuracy 69.000%\n",
      "Epoch 36, CIFAR-10 Batch 2:  Train loss 0.488, Validation accuracy 67.780%\n",
      "Epoch 36, CIFAR-10 Batch 3:  Train loss 0.494, Validation accuracy 66.940%\n",
      "Epoch 36, CIFAR-10 Batch 4:  Train loss 0.433, Validation accuracy 68.140%\n",
      "Epoch 36, CIFAR-10 Batch 5:  Train loss 0.456, Validation accuracy 65.960%\n",
      "Epoch 37, CIFAR-10 Batch 1:  Train loss 0.383, Validation accuracy 68.380%\n",
      "Epoch 37, CIFAR-10 Batch 2:  Train loss 0.456, Validation accuracy 67.940%\n",
      "Epoch 37, CIFAR-10 Batch 3:  Train loss 0.423, Validation accuracy 69.180%\n",
      "Epoch 37, CIFAR-10 Batch 4:  Train loss 0.414, Validation accuracy 67.940%\n",
      "Epoch 37, CIFAR-10 Batch 5:  Train loss 0.391, Validation accuracy 67.140%\n",
      "Epoch 38, CIFAR-10 Batch 1:  Train loss 0.372, Validation accuracy 68.820%\n",
      "Epoch 38, CIFAR-10 Batch 2:  Train loss 0.410, Validation accuracy 67.940%\n",
      "Epoch 38, CIFAR-10 Batch 3:  Train loss 0.447, Validation accuracy 67.560%\n",
      "Epoch 38, CIFAR-10 Batch 4:  Train loss 0.428, Validation accuracy 67.700%\n",
      "Epoch 38, CIFAR-10 Batch 5:  Train loss 0.350, Validation accuracy 68.280%\n",
      "Epoch 39, CIFAR-10 Batch 1:  Train loss 0.344, Validation accuracy 68.940%\n",
      "Epoch 39, CIFAR-10 Batch 2:  Train loss 0.394, Validation accuracy 68.360%\n",
      "Epoch 39, CIFAR-10 Batch 3:  Train loss 0.514, Validation accuracy 63.360%\n",
      "Epoch 39, CIFAR-10 Batch 4:  Train loss 0.543, Validation accuracy 63.840%\n",
      "Epoch 39, CIFAR-10 Batch 5:  Train loss 0.356, Validation accuracy 69.040%\n",
      "Epoch 40, CIFAR-10 Batch 1:  Train loss 0.390, Validation accuracy 68.380%\n",
      "Epoch 40, CIFAR-10 Batch 2:  Train loss 0.431, Validation accuracy 66.580%\n",
      "Epoch 40, CIFAR-10 Batch 3:  Train loss 0.414, Validation accuracy 65.620%\n",
      "Epoch 40, CIFAR-10 Batch 4:  Train loss 0.429, Validation accuracy 67.160%\n",
      "Epoch 40, CIFAR-10 Batch 5:  Train loss 0.426, Validation accuracy 65.980%\n",
      "Epoch 41, CIFAR-10 Batch 1:  Train loss 0.378, Validation accuracy 68.180%\n",
      "Epoch 41, CIFAR-10 Batch 2:  Train loss 0.383, Validation accuracy 67.960%\n",
      "Epoch 41, CIFAR-10 Batch 3:  Train loss 0.384, Validation accuracy 66.980%\n",
      "Epoch 41, CIFAR-10 Batch 4:  Train loss 0.422, Validation accuracy 66.080%\n",
      "Epoch 41, CIFAR-10 Batch 5:  Train loss 0.351, Validation accuracy 67.840%\n",
      "Epoch 42, CIFAR-10 Batch 1:  Train loss 0.325, Validation accuracy 69.380%\n",
      "Epoch 42, CIFAR-10 Batch 2:  Train loss 0.345, Validation accuracy 68.600%\n",
      "Epoch 42, CIFAR-10 Batch 3:  Train loss 0.397, Validation accuracy 66.220%\n",
      "Epoch 42, CIFAR-10 Batch 4:  Train loss 0.346, Validation accuracy 67.700%\n",
      "Epoch 42, CIFAR-10 Batch 5:  Train loss 0.305, Validation accuracy 67.680%\n",
      "Epoch 43, CIFAR-10 Batch 1:  Train loss 0.303, Validation accuracy 68.580%\n",
      "Epoch 43, CIFAR-10 Batch 2:  Train loss 0.306, Validation accuracy 69.260%\n",
      "Epoch 43, CIFAR-10 Batch 3:  Train loss 0.434, Validation accuracy 65.140%\n",
      "Epoch 43, CIFAR-10 Batch 4:  Train loss 0.327, Validation accuracy 68.200%\n",
      "Epoch 43, CIFAR-10 Batch 5:  Train loss 0.279, Validation accuracy 68.440%\n",
      "Epoch 44, CIFAR-10 Batch 1:  Train loss 0.276, Validation accuracy 67.660%\n",
      "Epoch 44, CIFAR-10 Batch 2:  Train loss 0.338, Validation accuracy 67.220%\n",
      "Epoch 44, CIFAR-10 Batch 3:  Train loss 0.449, Validation accuracy 64.860%\n",
      "Epoch 44, CIFAR-10 Batch 4:  Train loss 0.321, Validation accuracy 67.460%\n",
      "Epoch 44, CIFAR-10 Batch 5:  Train loss 0.330, Validation accuracy 67.800%\n",
      "Epoch 45, CIFAR-10 Batch 1:  Train loss 0.330, Validation accuracy 66.800%\n",
      "Epoch 45, CIFAR-10 Batch 2:  Train loss 0.313, Validation accuracy 68.100%\n",
      "Epoch 45, CIFAR-10 Batch 3:  Train loss 0.313, Validation accuracy 67.320%\n",
      "Epoch 45, CIFAR-10 Batch 4:  Train loss 0.366, Validation accuracy 65.620%\n",
      "Epoch 45, CIFAR-10 Batch 5:  Train loss 0.308, Validation accuracy 67.240%\n",
      "Epoch 46, CIFAR-10 Batch 1:  Train loss 0.282, Validation accuracy 68.240%\n",
      "Epoch 46, CIFAR-10 Batch 2:  Train loss 0.273, Validation accuracy 68.940%\n",
      "Epoch 46, CIFAR-10 Batch 3:  Train loss 0.297, Validation accuracy 67.440%\n",
      "Epoch 46, CIFAR-10 Batch 4:  Train loss 0.297, Validation accuracy 68.020%\n",
      "Epoch 46, CIFAR-10 Batch 5:  Train loss 0.284, Validation accuracy 66.720%\n",
      "Epoch 47, CIFAR-10 Batch 1:  Train loss 0.226, Validation accuracy 69.600%\n",
      "Epoch 47, CIFAR-10 Batch 2:  Train loss 0.280, Validation accuracy 68.060%\n",
      "Epoch 47, CIFAR-10 Batch 3:  Train loss 0.312, Validation accuracy 66.060%\n",
      "Epoch 47, CIFAR-10 Batch 4:  Train loss 0.313, Validation accuracy 65.620%\n",
      "Epoch 47, CIFAR-10 Batch 5:  Train loss 0.213, Validation accuracy 68.140%\n",
      "Epoch 48, CIFAR-10 Batch 1:  Train loss 0.290, Validation accuracy 67.060%\n",
      "Epoch 48, CIFAR-10 Batch 2:  Train loss 0.270, Validation accuracy 68.260%\n",
      "Epoch 48, CIFAR-10 Batch 3:  Train loss 0.267, Validation accuracy 67.720%\n",
      "Epoch 48, CIFAR-10 Batch 4:  Train loss 0.259, Validation accuracy 67.500%\n",
      "Epoch 48, CIFAR-10 Batch 5:  Train loss 0.243, Validation accuracy 67.360%\n",
      "Epoch 49, CIFAR-10 Batch 1:  Train loss 0.269, Validation accuracy 67.980%\n",
      "Epoch 49, CIFAR-10 Batch 2:  Train loss 0.278, Validation accuracy 67.160%\n",
      "Epoch 49, CIFAR-10 Batch 3:  Train loss 0.310, Validation accuracy 66.880%\n",
      "Epoch 49, CIFAR-10 Batch 4:  Train loss 0.278, Validation accuracy 67.000%\n",
      "Epoch 49, CIFAR-10 Batch 5:  Train loss 0.215, Validation accuracy 67.180%\n",
      "Epoch 50, CIFAR-10 Batch 1:  Train loss 0.223, Validation accuracy 68.500%\n",
      "Epoch 50, CIFAR-10 Batch 2:  Train loss 0.247, Validation accuracy 67.700%\n",
      "Epoch 50, CIFAR-10 Batch 3:  Train loss 0.289, Validation accuracy 66.720%\n",
      "Epoch 50, CIFAR-10 Batch 4:  Train loss 0.290, Validation accuracy 66.180%\n",
      "Epoch 50, CIFAR-10 Batch 5:  Train loss 0.240, Validation accuracy 67.160%\n"
     ]
    }
   ],
   "source": [
    "\"\"\"\n",
    "DON'T MODIFY ANYTHING IN THIS CELL\n",
    "\"\"\"\n",
    "save_model_path = './image_classification'\n",
    "\n",
    "print('Training...')\n",
    "with tf.Session() as sess:\n",
    "    # Initializing the variables\n",
    "    sess.run(tf.global_variables_initializer())\n",
    "    \n",
    "    # Training cycle\n",
    "    for epoch in range(epochs):\n",
    "        # Loop over all batches\n",
    "        n_batches = 5\n",
    "        for batch_i in range(1, n_batches + 1):\n",
    "            for batch_features, batch_labels in helper.load_preprocess_training_batch(batch_i, batch_size):\n",
    "                train_neural_network(sess, optimizer, keep_probability, batch_features, batch_labels)\n",
    "            print('Epoch {:>2}, CIFAR-10 Batch {}:  '.format(epoch + 1, batch_i), end='')\n",
    "            print_stats(sess, batch_features, batch_labels, cost, accuracy)\n",
    "            \n",
    "    # Save Model\n",
    "    saver = tf.train.Saver()\n",
    "    save_path = saver.save(sess, save_model_path)"
   ]
  },
  {
   "cell_type": "markdown",
   "metadata": {
    "deletable": true,
    "editable": true
   },
   "source": [
    "# Checkpoint\n",
    "The model has been saved to disk.\n",
    "## Test Model\n",
    "Test your model against the test dataset.  This will be your final accuracy. You should have an accuracy greater than 50%. If you don't, keep tweaking the model architecture and parameters."
   ]
  },
  {
   "cell_type": "code",
   "execution_count": 42,
   "metadata": {
    "collapsed": false,
    "deletable": true,
    "editable": true
   },
   "outputs": [
    {
     "name": "stdout",
     "output_type": "stream",
     "text": [
      "Testing Accuracy: 0.6600366711616517\n",
      "\n"
     ]
    },
    {
     "data": {
      "image/png": "[encoded data removed]",
      "text/plain": [
       "<matplotlib.figure.Figure at 0x7f9bf7274048>"
      ]
     },
     "metadata": {
      "image/png": {
       "height": 319,
       "width": 355
      }
     },
     "output_type": "display_data"
    }
   ],
   "source": [
    "\"\"\"\n",
    "DON'T MODIFY ANYTHING IN THIS CELL\n",
    "\"\"\"\n",
    "%matplotlib inline\n",
    "%config InlineBackend.figure_format = 'retina'\n",
    "\n",
    "import tensorflow as tf\n",
    "import pickle\n",
    "import helper\n",
    "import random\n",
    "\n",
    "# Set batch size if not already set\n",
    "try:\n",
    "    if batch_size:\n",
    "        pass\n",
    "except NameError:\n",
    "    batch_size = 64\n",
    "\n",
    "save_model_path = './image_classification'\n",
    "n_samples = 4\n",
    "top_n_predictions = 3\n",
    "\n",
    "def test_model():\n",
    "    \"\"\"\n",
    "    Test the saved model against the test dataset\n",
    "    \"\"\"\n",
    "\n",
    "    test_features, test_labels = pickle.load(open('preprocess_training.p', mode='rb'))\n",
    "    loaded_graph = tf.Graph()\n",
    "\n",
    "    with tf.Session(graph=loaded_graph) as sess:\n",
    "        # Load model\n",
    "        loader = tf.train.import_meta_graph(save_model_path + '.meta')\n",
    "        loader.restore(sess, save_model_path)\n",
    "\n",
    "        # Get Tensors from loaded model\n",
    "        loaded_x = loaded_graph.get_tensor_by_name('x:0')\n",
    "        loaded_y = loaded_graph.get_tensor_by_name('y:0')\n",
    "        loaded_keep_prob = loaded_graph.get_tensor_by_name('keep_prob:0')\n",
    "        loaded_logits = loaded_graph.get_tensor_by_name('logits:0')\n",
    "        loaded_acc = loaded_graph.get_tensor_by_name('accuracy:0')\n",
    "        \n",
    "        # Get accuracy in batches for memory limitations\n",
    "        test_batch_acc_total = 0\n",
    "        test_batch_count = 0\n",
    "        \n",
    "        for train_feature_batch, train_label_batch in helper.batch_features_labels(test_features, test_labels, batch_size):\n",
    "            test_batch_acc_total += sess.run(\n",
    "                loaded_acc,\n",
    "                feed_dict={loaded_x: train_feature_batch, loaded_y: train_label_batch, loaded_keep_prob: 1.0})\n",
    "            test_batch_count += 1\n",
    "\n",
    "        print('Testing Accuracy: {}\\n'.format(test_batch_acc_total/test_batch_count))\n",
    "\n",
    "        # Print Random Samples\n",
    "        random_test_features, random_test_labels = tuple(zip(*random.sample(list(zip(test_features, test_labels)), n_samples)))\n",
    "        random_test_predictions = sess.run(\n",
    "            tf.nn.top_k(tf.nn.softmax(loaded_logits), top_n_predictions),\n",
    "            feed_dict={loaded_x: random_test_features, loaded_y: random_test_labels, loaded_keep_prob: 1.0})\n",
    "        helper.display_image_predictions(random_test_features, random_test_labels, random_test_predictions)\n",
    "\n",
    "\n",
    "test_model()"
   ]
  },
  {
   "cell_type": "markdown",
   "metadata": {
    "deletable": true,
    "editable": true
   },
   "source": [
    "## Why 50-70% Accuracy?\n",
    "You might be wondering why you can't get an accuracy any higher. First things first, 50% isn't bad for a simple CNN.  Pure guessing would get you 10% accuracy. However, you might notice people are getting scores [well above 70%](http://rodrigob.github.io/are_we_there_yet/build/classification_datasets_results.html#43494641522d3130).  That's because we haven't taught you all there is to know about neural networks. We still need to cover a few more techniques.\n",
    "## Submitting This Project\n",
    "When submitting this project, make sure to run all the cells before saving the notebook.  Save the notebook file as \"dlnd_image_classification.ipynb\" and save it as a HTML file under \"File\" -> \"Download as\".  Include the \"helper.py\" and \"problem_unittests.py\" files in your submission."
   ]
  }
 ],
 "metadata": {
  "kernelspec": {
   "display_name": "Python 3",
   "language": "python",
   "name": "python3"
  },
  "language_info": {
   "codemirror_mode": {
    "name": "ipython",
    "version": 3
   },
   "file_extension": ".py",
   "mimetype": "text/x-python",
   "name": "python",
   "nbconvert_exporter": "python",
   "pygments_lexer": "ipython3",
   "version": "3.5.2"
  },
  "widgets": {
   "state": {},
   "version": "1.1.2"
  }
 },
 "nbformat": 4,
 "nbformat_minor": 0
}
